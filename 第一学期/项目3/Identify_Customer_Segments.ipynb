{
 "cells": [
  {
   "cell_type": "markdown",
   "metadata": {},
   "source": [
    "# Project: Identify Customer Segments\n",
    "\n",
    "In this project, you will apply unsupervised learning techniques to identify segments of the population that form the core customer base for a mail-order sales company in Germany. These segments can then be used to direct marketing campaigns towards audiences that will have the highest expected rate of returns. The data that you will use has been provided by our partners at Bertelsmann Arvato Analytics, and represents a real-life data science task.\n",
    "\n",
    "This notebook will help you complete this task by providing a framework within which you will perform your analysis steps. In each step of the project, you will see some text describing the subtask that you will perform, followed by one or more code cells for you to complete your work. **Feel free to add additional code and markdown cells as you go along so that you can explore everything in precise chunks.** The code cells provided in the base template will outline only the major tasks, and will usually not be enough to cover all of the minor tasks that comprise it.\n",
    "\n",
    "It should be noted that while there will be precise guidelines on how you should handle certain tasks in the project, there will also be places where an exact specification is not provided. **There will be times in the project where you will need to make and justify your own decisions on how to treat the data.** These are places where there may not be only one way to handle the data. In real-life tasks, there may be many valid ways to approach an analysis task. One of the most important things you can do is clearly document your approach so that other scientists can understand the decisions you've made.\n",
    "\n",
    "At the end of most sections, there will be a Markdown cell labeled **Discussion**. In these cells, you will report your findings for the completed section, as well as document the decisions that you made in your approach to each subtask. **Your project will be evaluated not just on the code used to complete the tasks outlined, but also your communication about your observations and conclusions at each stage.**"
   ]
  },
  {
   "cell_type": "code",
   "execution_count": 1,
   "metadata": {},
   "outputs": [],
   "source": [
    "# import libraries here; add more as necessary\n",
    "import numpy as np\n",
    "import pandas as pd\n",
    "import matplotlib.pyplot as plt\n",
    "import seaborn as sns\n",
    "import re\n",
    "import ast\n",
    "# magic word for producing visualizations in notebook\n",
    "%matplotlib inline"
   ]
  },
  {
   "cell_type": "markdown",
   "metadata": {},
   "source": [
    "### Step 0: Load the Data\n",
    "\n",
    "There are four files associated with this project (not including this one):\n",
    "\n",
    "- `Udacity_AZDIAS_Subset.csv`: Demographics data for the general population of Germany; 891211 persons (rows) x 85 features (columns).\n",
    "- `Udacity_CUSTOMERS_Subset.csv`: Demographics data for customers of a mail-order company; 191652 persons (rows) x 85 features (columns).\n",
    "- `Data_Dictionary.md`: Detailed information file about the features in the provided datasets.\n",
    "- `AZDIAS_Feature_Summary.csv`: Summary of feature attributes for demographics data; 85 features (rows) x 4 columns\n",
    "\n",
    "Each row of the demographics files represents a single person, but also includes information outside of individuals, including information about their household, building, and neighborhood. You will use this information to cluster the general population into groups with similar demographic properties. Then, you will see how the people in the customers dataset fit into those created clusters. The hope here is that certain clusters are over-represented in the customers data, as compared to the general population; those over-represented clusters will be assumed to be part of the core userbase. This information can then be used for further applications, such as targeting for a marketing campaign.\n",
    "\n",
    "To start off with, load in the demographics data for the general population into a pandas DataFrame, and do the same for the feature attributes summary. Note for all of the `.csv` data files in this project: they're semicolon (`;`) delimited, so you'll need an additional argument in your [`read_csv()`](https://pandas.pydata.org/pandas-docs/stable/generated/pandas.read_csv.html) call to read in the data properly. Also, considering the size of the main dataset, it may take some time for it to load completely.\n",
    "\n",
    "Once the dataset is loaded, it's recommended that you take a little bit of time just browsing the general structure of the dataset and feature summary file. You'll be getting deep into the innards of the cleaning in the first major step of the project, so gaining some general familiarity can help you get your bearings."
   ]
  },
  {
   "cell_type": "code",
   "execution_count": 2,
   "metadata": {},
   "outputs": [],
   "source": [
    "# Load in the general demographics data.\n",
    "azdias = pd.read_csv(\"Udacity_AZDIAS_Subset.csv\", delimiter = \";\")\n",
    "\n",
    "# Load in the feature summary file.\n",
    "feat_info = pd.read_csv(\"AZDIAS_Feature_Summary.csv\", delimiter = \";\")"
   ]
  },
  {
   "cell_type": "code",
   "execution_count": 3,
   "metadata": {},
   "outputs": [
    {
     "data": {
      "text/html": [
       "<div>\n",
       "<style scoped>\n",
       "    .dataframe tbody tr th:only-of-type {\n",
       "        vertical-align: middle;\n",
       "    }\n",
       "\n",
       "    .dataframe tbody tr th {\n",
       "        vertical-align: top;\n",
       "    }\n",
       "\n",
       "    .dataframe thead th {\n",
       "        text-align: right;\n",
       "    }\n",
       "</style>\n",
       "<table border=\"1\" class=\"dataframe\">\n",
       "  <thead>\n",
       "    <tr style=\"text-align: right;\">\n",
       "      <th></th>\n",
       "      <th>AGER_TYP</th>\n",
       "      <th>ALTERSKATEGORIE_GROB</th>\n",
       "      <th>ANREDE_KZ</th>\n",
       "      <th>CJT_GESAMTTYP</th>\n",
       "      <th>FINANZ_MINIMALIST</th>\n",
       "      <th>FINANZ_SPARER</th>\n",
       "      <th>FINANZ_VORSORGER</th>\n",
       "      <th>FINANZ_ANLEGER</th>\n",
       "      <th>FINANZ_UNAUFFAELLIGER</th>\n",
       "      <th>FINANZ_HAUSBAUER</th>\n",
       "      <th>...</th>\n",
       "      <th>PLZ8_ANTG1</th>\n",
       "      <th>PLZ8_ANTG2</th>\n",
       "      <th>PLZ8_ANTG3</th>\n",
       "      <th>PLZ8_ANTG4</th>\n",
       "      <th>PLZ8_BAUMAX</th>\n",
       "      <th>PLZ8_HHZ</th>\n",
       "      <th>PLZ8_GBZ</th>\n",
       "      <th>ARBEIT</th>\n",
       "      <th>ORTSGR_KLS9</th>\n",
       "      <th>RELAT_AB</th>\n",
       "    </tr>\n",
       "  </thead>\n",
       "  <tbody>\n",
       "    <tr>\n",
       "      <th>0</th>\n",
       "      <td>-1</td>\n",
       "      <td>2</td>\n",
       "      <td>1</td>\n",
       "      <td>2.0</td>\n",
       "      <td>3</td>\n",
       "      <td>4</td>\n",
       "      <td>3</td>\n",
       "      <td>5</td>\n",
       "      <td>5</td>\n",
       "      <td>3</td>\n",
       "      <td>...</td>\n",
       "      <td>NaN</td>\n",
       "      <td>NaN</td>\n",
       "      <td>NaN</td>\n",
       "      <td>NaN</td>\n",
       "      <td>NaN</td>\n",
       "      <td>NaN</td>\n",
       "      <td>NaN</td>\n",
       "      <td>NaN</td>\n",
       "      <td>NaN</td>\n",
       "      <td>NaN</td>\n",
       "    </tr>\n",
       "    <tr>\n",
       "      <th>1</th>\n",
       "      <td>-1</td>\n",
       "      <td>1</td>\n",
       "      <td>2</td>\n",
       "      <td>5.0</td>\n",
       "      <td>1</td>\n",
       "      <td>5</td>\n",
       "      <td>2</td>\n",
       "      <td>5</td>\n",
       "      <td>4</td>\n",
       "      <td>5</td>\n",
       "      <td>...</td>\n",
       "      <td>2.0</td>\n",
       "      <td>3.0</td>\n",
       "      <td>2.0</td>\n",
       "      <td>1.0</td>\n",
       "      <td>1.0</td>\n",
       "      <td>5.0</td>\n",
       "      <td>4.0</td>\n",
       "      <td>3.0</td>\n",
       "      <td>5.0</td>\n",
       "      <td>4.0</td>\n",
       "    </tr>\n",
       "    <tr>\n",
       "      <th>2</th>\n",
       "      <td>-1</td>\n",
       "      <td>3</td>\n",
       "      <td>2</td>\n",
       "      <td>3.0</td>\n",
       "      <td>1</td>\n",
       "      <td>4</td>\n",
       "      <td>1</td>\n",
       "      <td>2</td>\n",
       "      <td>3</td>\n",
       "      <td>5</td>\n",
       "      <td>...</td>\n",
       "      <td>3.0</td>\n",
       "      <td>3.0</td>\n",
       "      <td>1.0</td>\n",
       "      <td>0.0</td>\n",
       "      <td>1.0</td>\n",
       "      <td>4.0</td>\n",
       "      <td>4.0</td>\n",
       "      <td>3.0</td>\n",
       "      <td>5.0</td>\n",
       "      <td>2.0</td>\n",
       "    </tr>\n",
       "    <tr>\n",
       "      <th>3</th>\n",
       "      <td>2</td>\n",
       "      <td>4</td>\n",
       "      <td>2</td>\n",
       "      <td>2.0</td>\n",
       "      <td>4</td>\n",
       "      <td>2</td>\n",
       "      <td>5</td>\n",
       "      <td>2</td>\n",
       "      <td>1</td>\n",
       "      <td>2</td>\n",
       "      <td>...</td>\n",
       "      <td>2.0</td>\n",
       "      <td>2.0</td>\n",
       "      <td>2.0</td>\n",
       "      <td>0.0</td>\n",
       "      <td>1.0</td>\n",
       "      <td>3.0</td>\n",
       "      <td>4.0</td>\n",
       "      <td>2.0</td>\n",
       "      <td>3.0</td>\n",
       "      <td>3.0</td>\n",
       "    </tr>\n",
       "    <tr>\n",
       "      <th>4</th>\n",
       "      <td>-1</td>\n",
       "      <td>3</td>\n",
       "      <td>1</td>\n",
       "      <td>5.0</td>\n",
       "      <td>4</td>\n",
       "      <td>3</td>\n",
       "      <td>4</td>\n",
       "      <td>1</td>\n",
       "      <td>3</td>\n",
       "      <td>2</td>\n",
       "      <td>...</td>\n",
       "      <td>2.0</td>\n",
       "      <td>4.0</td>\n",
       "      <td>2.0</td>\n",
       "      <td>1.0</td>\n",
       "      <td>2.0</td>\n",
       "      <td>3.0</td>\n",
       "      <td>3.0</td>\n",
       "      <td>4.0</td>\n",
       "      <td>6.0</td>\n",
       "      <td>5.0</td>\n",
       "    </tr>\n",
       "  </tbody>\n",
       "</table>\n",
       "<p>5 rows × 85 columns</p>\n",
       "</div>"
      ],
      "text/plain": [
       "   AGER_TYP  ALTERSKATEGORIE_GROB  ANREDE_KZ  CJT_GESAMTTYP  \\\n",
       "0        -1                     2          1            2.0   \n",
       "1        -1                     1          2            5.0   \n",
       "2        -1                     3          2            3.0   \n",
       "3         2                     4          2            2.0   \n",
       "4        -1                     3          1            5.0   \n",
       "\n",
       "   FINANZ_MINIMALIST  FINANZ_SPARER  FINANZ_VORSORGER  FINANZ_ANLEGER  \\\n",
       "0                  3              4                 3               5   \n",
       "1                  1              5                 2               5   \n",
       "2                  1              4                 1               2   \n",
       "3                  4              2                 5               2   \n",
       "4                  4              3                 4               1   \n",
       "\n",
       "   FINANZ_UNAUFFAELLIGER  FINANZ_HAUSBAUER    ...     PLZ8_ANTG1  PLZ8_ANTG2  \\\n",
       "0                      5                 3    ...            NaN         NaN   \n",
       "1                      4                 5    ...            2.0         3.0   \n",
       "2                      3                 5    ...            3.0         3.0   \n",
       "3                      1                 2    ...            2.0         2.0   \n",
       "4                      3                 2    ...            2.0         4.0   \n",
       "\n",
       "   PLZ8_ANTG3  PLZ8_ANTG4  PLZ8_BAUMAX  PLZ8_HHZ  PLZ8_GBZ  ARBEIT  \\\n",
       "0         NaN         NaN          NaN       NaN       NaN     NaN   \n",
       "1         2.0         1.0          1.0       5.0       4.0     3.0   \n",
       "2         1.0         0.0          1.0       4.0       4.0     3.0   \n",
       "3         2.0         0.0          1.0       3.0       4.0     2.0   \n",
       "4         2.0         1.0          2.0       3.0       3.0     4.0   \n",
       "\n",
       "   ORTSGR_KLS9  RELAT_AB  \n",
       "0          NaN       NaN  \n",
       "1          5.0       4.0  \n",
       "2          5.0       2.0  \n",
       "3          3.0       3.0  \n",
       "4          6.0       5.0  \n",
       "\n",
       "[5 rows x 85 columns]"
      ]
     },
     "execution_count": 3,
     "metadata": {},
     "output_type": "execute_result"
    }
   ],
   "source": [
    "# Check the structure of the data after it's loaded (e.g. print the number of\n",
    "# rows and columns, print the first few rows).\n",
    "azdias.head()"
   ]
  },
  {
   "cell_type": "code",
   "execution_count": 4,
   "metadata": {},
   "outputs": [
    {
     "name": "stdout",
     "output_type": "stream",
     "text": [
      "<class 'pandas.core.frame.DataFrame'>\n",
      "RangeIndex: 891221 entries, 0 to 891220\n",
      "Data columns (total 85 columns):\n",
      "AGER_TYP                 891221 non-null int64\n",
      "ALTERSKATEGORIE_GROB     891221 non-null int64\n",
      "ANREDE_KZ                891221 non-null int64\n",
      "CJT_GESAMTTYP            886367 non-null float64\n",
      "FINANZ_MINIMALIST        891221 non-null int64\n",
      "FINANZ_SPARER            891221 non-null int64\n",
      "FINANZ_VORSORGER         891221 non-null int64\n",
      "FINANZ_ANLEGER           891221 non-null int64\n",
      "FINANZ_UNAUFFAELLIGER    891221 non-null int64\n",
      "FINANZ_HAUSBAUER         891221 non-null int64\n",
      "FINANZTYP                891221 non-null int64\n",
      "GEBURTSJAHR              891221 non-null int64\n",
      "GFK_URLAUBERTYP          886367 non-null float64\n",
      "GREEN_AVANTGARDE         891221 non-null int64\n",
      "HEALTH_TYP               891221 non-null int64\n",
      "LP_LEBENSPHASE_FEIN      886367 non-null float64\n",
      "LP_LEBENSPHASE_GROB      886367 non-null float64\n",
      "LP_FAMILIE_FEIN          886367 non-null float64\n",
      "LP_FAMILIE_GROB          886367 non-null float64\n",
      "LP_STATUS_FEIN           886367 non-null float64\n",
      "LP_STATUS_GROB           886367 non-null float64\n",
      "NATIONALITAET_KZ         891221 non-null int64\n",
      "PRAEGENDE_JUGENDJAHRE    891221 non-null int64\n",
      "RETOURTYP_BK_S           886367 non-null float64\n",
      "SEMIO_SOZ                891221 non-null int64\n",
      "SEMIO_FAM                891221 non-null int64\n",
      "SEMIO_REL                891221 non-null int64\n",
      "SEMIO_MAT                891221 non-null int64\n",
      "SEMIO_VERT               891221 non-null int64\n",
      "SEMIO_LUST               891221 non-null int64\n",
      "SEMIO_ERL                891221 non-null int64\n",
      "SEMIO_KULT               891221 non-null int64\n",
      "SEMIO_RAT                891221 non-null int64\n",
      "SEMIO_KRIT               891221 non-null int64\n",
      "SEMIO_DOM                891221 non-null int64\n",
      "SEMIO_KAEM               891221 non-null int64\n",
      "SEMIO_PFLICHT            891221 non-null int64\n",
      "SEMIO_TRADV              891221 non-null int64\n",
      "SHOPPER_TYP              891221 non-null int64\n",
      "SOHO_KZ                  817722 non-null float64\n",
      "TITEL_KZ                 817722 non-null float64\n",
      "VERS_TYP                 891221 non-null int64\n",
      "ZABEOTYP                 891221 non-null int64\n",
      "ALTER_HH                 817722 non-null float64\n",
      "ANZ_PERSONEN             817722 non-null float64\n",
      "ANZ_TITEL                817722 non-null float64\n",
      "HH_EINKOMMEN_SCORE       872873 non-null float64\n",
      "KK_KUNDENTYP             306609 non-null float64\n",
      "W_KEIT_KIND_HH           783619 non-null float64\n",
      "WOHNDAUER_2008           817722 non-null float64\n",
      "ANZ_HAUSHALTE_AKTIV      798073 non-null float64\n",
      "ANZ_HH_TITEL             794213 non-null float64\n",
      "GEBAEUDETYP              798073 non-null float64\n",
      "KONSUMNAEHE              817252 non-null float64\n",
      "MIN_GEBAEUDEJAHR         798073 non-null float64\n",
      "OST_WEST_KZ              798073 non-null object\n",
      "WOHNLAGE                 798073 non-null float64\n",
      "CAMEO_DEUG_2015          792242 non-null object\n",
      "CAMEO_DEU_2015           792242 non-null object\n",
      "CAMEO_INTL_2015          792242 non-null object\n",
      "KBA05_ANTG1              757897 non-null float64\n",
      "KBA05_ANTG2              757897 non-null float64\n",
      "KBA05_ANTG3              757897 non-null float64\n",
      "KBA05_ANTG4              757897 non-null float64\n",
      "KBA05_BAUMAX             757897 non-null float64\n",
      "KBA05_GBZ                757897 non-null float64\n",
      "BALLRAUM                 797481 non-null float64\n",
      "EWDICHTE                 797481 non-null float64\n",
      "INNENSTADT               797481 non-null float64\n",
      "GEBAEUDETYP_RASTER       798066 non-null float64\n",
      "KKK                      770025 non-null float64\n",
      "MOBI_REGIO               757897 non-null float64\n",
      "ONLINE_AFFINITAET        886367 non-null float64\n",
      "REGIOTYP                 770025 non-null float64\n",
      "KBA13_ANZAHL_PKW         785421 non-null float64\n",
      "PLZ8_ANTG1               774706 non-null float64\n",
      "PLZ8_ANTG2               774706 non-null float64\n",
      "PLZ8_ANTG3               774706 non-null float64\n",
      "PLZ8_ANTG4               774706 non-null float64\n",
      "PLZ8_BAUMAX              774706 non-null float64\n",
      "PLZ8_HHZ                 774706 non-null float64\n",
      "PLZ8_GBZ                 774706 non-null float64\n",
      "ARBEIT                   794005 non-null float64\n",
      "ORTSGR_KLS9              794005 non-null float64\n",
      "RELAT_AB                 794005 non-null float64\n",
      "dtypes: float64(49), int64(32), object(4)\n",
      "memory usage: 578.0+ MB\n"
     ]
    }
   ],
   "source": [
    "azdias.info()"
   ]
  },
  {
   "cell_type": "code",
   "execution_count": 5,
   "metadata": {},
   "outputs": [
    {
     "data": {
      "text/html": [
       "<div>\n",
       "<style scoped>\n",
       "    .dataframe tbody tr th:only-of-type {\n",
       "        vertical-align: middle;\n",
       "    }\n",
       "\n",
       "    .dataframe tbody tr th {\n",
       "        vertical-align: top;\n",
       "    }\n",
       "\n",
       "    .dataframe thead th {\n",
       "        text-align: right;\n",
       "    }\n",
       "</style>\n",
       "<table border=\"1\" class=\"dataframe\">\n",
       "  <thead>\n",
       "    <tr style=\"text-align: right;\">\n",
       "      <th></th>\n",
       "      <th>AGER_TYP</th>\n",
       "      <th>ALTERSKATEGORIE_GROB</th>\n",
       "      <th>ANREDE_KZ</th>\n",
       "      <th>CJT_GESAMTTYP</th>\n",
       "      <th>FINANZ_MINIMALIST</th>\n",
       "      <th>FINANZ_SPARER</th>\n",
       "      <th>FINANZ_VORSORGER</th>\n",
       "      <th>FINANZ_ANLEGER</th>\n",
       "      <th>FINANZ_UNAUFFAELLIGER</th>\n",
       "      <th>FINANZ_HAUSBAUER</th>\n",
       "      <th>...</th>\n",
       "      <th>PLZ8_ANTG1</th>\n",
       "      <th>PLZ8_ANTG2</th>\n",
       "      <th>PLZ8_ANTG3</th>\n",
       "      <th>PLZ8_ANTG4</th>\n",
       "      <th>PLZ8_BAUMAX</th>\n",
       "      <th>PLZ8_HHZ</th>\n",
       "      <th>PLZ8_GBZ</th>\n",
       "      <th>ARBEIT</th>\n",
       "      <th>ORTSGR_KLS9</th>\n",
       "      <th>RELAT_AB</th>\n",
       "    </tr>\n",
       "  </thead>\n",
       "  <tbody>\n",
       "    <tr>\n",
       "      <th>count</th>\n",
       "      <td>891221.000000</td>\n",
       "      <td>891221.000000</td>\n",
       "      <td>891221.000000</td>\n",
       "      <td>886367.000000</td>\n",
       "      <td>891221.000000</td>\n",
       "      <td>891221.000000</td>\n",
       "      <td>891221.000000</td>\n",
       "      <td>891221.000000</td>\n",
       "      <td>891221.000000</td>\n",
       "      <td>891221.000000</td>\n",
       "      <td>...</td>\n",
       "      <td>774706.000000</td>\n",
       "      <td>774706.000000</td>\n",
       "      <td>774706.000000</td>\n",
       "      <td>774706.000000</td>\n",
       "      <td>774706.000000</td>\n",
       "      <td>774706.000000</td>\n",
       "      <td>774706.000000</td>\n",
       "      <td>794005.000000</td>\n",
       "      <td>794005.000000</td>\n",
       "      <td>794005.00000</td>\n",
       "    </tr>\n",
       "    <tr>\n",
       "      <th>mean</th>\n",
       "      <td>-0.358435</td>\n",
       "      <td>2.777398</td>\n",
       "      <td>1.522098</td>\n",
       "      <td>3.632838</td>\n",
       "      <td>3.074528</td>\n",
       "      <td>2.821039</td>\n",
       "      <td>3.401106</td>\n",
       "      <td>3.033328</td>\n",
       "      <td>2.874167</td>\n",
       "      <td>3.075121</td>\n",
       "      <td>...</td>\n",
       "      <td>2.253330</td>\n",
       "      <td>2.801858</td>\n",
       "      <td>1.595426</td>\n",
       "      <td>0.699166</td>\n",
       "      <td>1.943913</td>\n",
       "      <td>3.612821</td>\n",
       "      <td>3.381087</td>\n",
       "      <td>3.167854</td>\n",
       "      <td>5.293002</td>\n",
       "      <td>3.07222</td>\n",
       "    </tr>\n",
       "    <tr>\n",
       "      <th>std</th>\n",
       "      <td>1.198724</td>\n",
       "      <td>1.068775</td>\n",
       "      <td>0.499512</td>\n",
       "      <td>1.595021</td>\n",
       "      <td>1.321055</td>\n",
       "      <td>1.464749</td>\n",
       "      <td>1.322134</td>\n",
       "      <td>1.529603</td>\n",
       "      <td>1.486731</td>\n",
       "      <td>1.353248</td>\n",
       "      <td>...</td>\n",
       "      <td>0.972008</td>\n",
       "      <td>0.920309</td>\n",
       "      <td>0.986736</td>\n",
       "      <td>0.727137</td>\n",
       "      <td>1.459654</td>\n",
       "      <td>0.973967</td>\n",
       "      <td>1.111598</td>\n",
       "      <td>1.002376</td>\n",
       "      <td>2.303739</td>\n",
       "      <td>1.36298</td>\n",
       "    </tr>\n",
       "    <tr>\n",
       "      <th>min</th>\n",
       "      <td>-1.000000</td>\n",
       "      <td>1.000000</td>\n",
       "      <td>1.000000</td>\n",
       "      <td>1.000000</td>\n",
       "      <td>1.000000</td>\n",
       "      <td>1.000000</td>\n",
       "      <td>1.000000</td>\n",
       "      <td>1.000000</td>\n",
       "      <td>1.000000</td>\n",
       "      <td>1.000000</td>\n",
       "      <td>...</td>\n",
       "      <td>0.000000</td>\n",
       "      <td>0.000000</td>\n",
       "      <td>0.000000</td>\n",
       "      <td>0.000000</td>\n",
       "      <td>1.000000</td>\n",
       "      <td>1.000000</td>\n",
       "      <td>1.000000</td>\n",
       "      <td>1.000000</td>\n",
       "      <td>0.000000</td>\n",
       "      <td>1.00000</td>\n",
       "    </tr>\n",
       "    <tr>\n",
       "      <th>25%</th>\n",
       "      <td>-1.000000</td>\n",
       "      <td>2.000000</td>\n",
       "      <td>1.000000</td>\n",
       "      <td>2.000000</td>\n",
       "      <td>2.000000</td>\n",
       "      <td>1.000000</td>\n",
       "      <td>3.000000</td>\n",
       "      <td>2.000000</td>\n",
       "      <td>2.000000</td>\n",
       "      <td>2.000000</td>\n",
       "      <td>...</td>\n",
       "      <td>1.000000</td>\n",
       "      <td>2.000000</td>\n",
       "      <td>1.000000</td>\n",
       "      <td>0.000000</td>\n",
       "      <td>1.000000</td>\n",
       "      <td>3.000000</td>\n",
       "      <td>3.000000</td>\n",
       "      <td>3.000000</td>\n",
       "      <td>4.000000</td>\n",
       "      <td>2.00000</td>\n",
       "    </tr>\n",
       "    <tr>\n",
       "      <th>50%</th>\n",
       "      <td>-1.000000</td>\n",
       "      <td>3.000000</td>\n",
       "      <td>2.000000</td>\n",
       "      <td>4.000000</td>\n",
       "      <td>3.000000</td>\n",
       "      <td>3.000000</td>\n",
       "      <td>3.000000</td>\n",
       "      <td>3.000000</td>\n",
       "      <td>3.000000</td>\n",
       "      <td>3.000000</td>\n",
       "      <td>...</td>\n",
       "      <td>2.000000</td>\n",
       "      <td>3.000000</td>\n",
       "      <td>2.000000</td>\n",
       "      <td>1.000000</td>\n",
       "      <td>1.000000</td>\n",
       "      <td>4.000000</td>\n",
       "      <td>3.000000</td>\n",
       "      <td>3.000000</td>\n",
       "      <td>5.000000</td>\n",
       "      <td>3.00000</td>\n",
       "    </tr>\n",
       "    <tr>\n",
       "      <th>75%</th>\n",
       "      <td>-1.000000</td>\n",
       "      <td>4.000000</td>\n",
       "      <td>2.000000</td>\n",
       "      <td>5.000000</td>\n",
       "      <td>4.000000</td>\n",
       "      <td>4.000000</td>\n",
       "      <td>5.000000</td>\n",
       "      <td>5.000000</td>\n",
       "      <td>4.000000</td>\n",
       "      <td>4.000000</td>\n",
       "      <td>...</td>\n",
       "      <td>3.000000</td>\n",
       "      <td>3.000000</td>\n",
       "      <td>2.000000</td>\n",
       "      <td>1.000000</td>\n",
       "      <td>3.000000</td>\n",
       "      <td>4.000000</td>\n",
       "      <td>4.000000</td>\n",
       "      <td>4.000000</td>\n",
       "      <td>7.000000</td>\n",
       "      <td>4.00000</td>\n",
       "    </tr>\n",
       "    <tr>\n",
       "      <th>max</th>\n",
       "      <td>3.000000</td>\n",
       "      <td>9.000000</td>\n",
       "      <td>2.000000</td>\n",
       "      <td>6.000000</td>\n",
       "      <td>5.000000</td>\n",
       "      <td>5.000000</td>\n",
       "      <td>5.000000</td>\n",
       "      <td>5.000000</td>\n",
       "      <td>5.000000</td>\n",
       "      <td>5.000000</td>\n",
       "      <td>...</td>\n",
       "      <td>4.000000</td>\n",
       "      <td>4.000000</td>\n",
       "      <td>3.000000</td>\n",
       "      <td>2.000000</td>\n",
       "      <td>5.000000</td>\n",
       "      <td>5.000000</td>\n",
       "      <td>5.000000</td>\n",
       "      <td>9.000000</td>\n",
       "      <td>9.000000</td>\n",
       "      <td>9.00000</td>\n",
       "    </tr>\n",
       "  </tbody>\n",
       "</table>\n",
       "<p>8 rows × 81 columns</p>\n",
       "</div>"
      ],
      "text/plain": [
       "            AGER_TYP  ALTERSKATEGORIE_GROB      ANREDE_KZ  CJT_GESAMTTYP  \\\n",
       "count  891221.000000         891221.000000  891221.000000  886367.000000   \n",
       "mean       -0.358435              2.777398       1.522098       3.632838   \n",
       "std         1.198724              1.068775       0.499512       1.595021   \n",
       "min        -1.000000              1.000000       1.000000       1.000000   \n",
       "25%        -1.000000              2.000000       1.000000       2.000000   \n",
       "50%        -1.000000              3.000000       2.000000       4.000000   \n",
       "75%        -1.000000              4.000000       2.000000       5.000000   \n",
       "max         3.000000              9.000000       2.000000       6.000000   \n",
       "\n",
       "       FINANZ_MINIMALIST  FINANZ_SPARER  FINANZ_VORSORGER  FINANZ_ANLEGER  \\\n",
       "count      891221.000000  891221.000000     891221.000000   891221.000000   \n",
       "mean            3.074528       2.821039          3.401106        3.033328   \n",
       "std             1.321055       1.464749          1.322134        1.529603   \n",
       "min             1.000000       1.000000          1.000000        1.000000   \n",
       "25%             2.000000       1.000000          3.000000        2.000000   \n",
       "50%             3.000000       3.000000          3.000000        3.000000   \n",
       "75%             4.000000       4.000000          5.000000        5.000000   \n",
       "max             5.000000       5.000000          5.000000        5.000000   \n",
       "\n",
       "       FINANZ_UNAUFFAELLIGER  FINANZ_HAUSBAUER      ...          PLZ8_ANTG1  \\\n",
       "count          891221.000000     891221.000000      ...       774706.000000   \n",
       "mean                2.874167          3.075121      ...            2.253330   \n",
       "std                 1.486731          1.353248      ...            0.972008   \n",
       "min                 1.000000          1.000000      ...            0.000000   \n",
       "25%                 2.000000          2.000000      ...            1.000000   \n",
       "50%                 3.000000          3.000000      ...            2.000000   \n",
       "75%                 4.000000          4.000000      ...            3.000000   \n",
       "max                 5.000000          5.000000      ...            4.000000   \n",
       "\n",
       "          PLZ8_ANTG2     PLZ8_ANTG3     PLZ8_ANTG4    PLZ8_BAUMAX  \\\n",
       "count  774706.000000  774706.000000  774706.000000  774706.000000   \n",
       "mean        2.801858       1.595426       0.699166       1.943913   \n",
       "std         0.920309       0.986736       0.727137       1.459654   \n",
       "min         0.000000       0.000000       0.000000       1.000000   \n",
       "25%         2.000000       1.000000       0.000000       1.000000   \n",
       "50%         3.000000       2.000000       1.000000       1.000000   \n",
       "75%         3.000000       2.000000       1.000000       3.000000   \n",
       "max         4.000000       3.000000       2.000000       5.000000   \n",
       "\n",
       "            PLZ8_HHZ       PLZ8_GBZ         ARBEIT    ORTSGR_KLS9  \\\n",
       "count  774706.000000  774706.000000  794005.000000  794005.000000   \n",
       "mean        3.612821       3.381087       3.167854       5.293002   \n",
       "std         0.973967       1.111598       1.002376       2.303739   \n",
       "min         1.000000       1.000000       1.000000       0.000000   \n",
       "25%         3.000000       3.000000       3.000000       4.000000   \n",
       "50%         4.000000       3.000000       3.000000       5.000000   \n",
       "75%         4.000000       4.000000       4.000000       7.000000   \n",
       "max         5.000000       5.000000       9.000000       9.000000   \n",
       "\n",
       "           RELAT_AB  \n",
       "count  794005.00000  \n",
       "mean        3.07222  \n",
       "std         1.36298  \n",
       "min         1.00000  \n",
       "25%         2.00000  \n",
       "50%         3.00000  \n",
       "75%         4.00000  \n",
       "max         9.00000  \n",
       "\n",
       "[8 rows x 81 columns]"
      ]
     },
     "execution_count": 5,
     "metadata": {},
     "output_type": "execute_result"
    }
   ],
   "source": [
    "azdias.describe()"
   ]
  },
  {
   "cell_type": "code",
   "execution_count": 6,
   "metadata": {},
   "outputs": [
    {
     "data": {
      "text/plain": [
       "AGER_TYP                    5\n",
       "ALTERSKATEGORIE_GROB        5\n",
       "ANREDE_KZ                   2\n",
       "CJT_GESAMTTYP               6\n",
       "FINANZ_MINIMALIST           5\n",
       "FINANZ_SPARER               5\n",
       "FINANZ_VORSORGER            5\n",
       "FINANZ_ANLEGER              5\n",
       "FINANZ_UNAUFFAELLIGER       5\n",
       "FINANZ_HAUSBAUER            5\n",
       "FINANZTYP                   6\n",
       "GEBURTSJAHR               117\n",
       "GFK_URLAUBERTYP            12\n",
       "GREEN_AVANTGARDE            2\n",
       "HEALTH_TYP                  4\n",
       "LP_LEBENSPHASE_FEIN        41\n",
       "LP_LEBENSPHASE_GROB        13\n",
       "LP_FAMILIE_FEIN            12\n",
       "LP_FAMILIE_GROB             6\n",
       "LP_STATUS_FEIN             10\n",
       "LP_STATUS_GROB              5\n",
       "NATIONALITAET_KZ            4\n",
       "PRAEGENDE_JUGENDJAHRE      16\n",
       "RETOURTYP_BK_S              5\n",
       "SEMIO_SOZ                   7\n",
       "SEMIO_FAM                   7\n",
       "SEMIO_REL                   7\n",
       "SEMIO_MAT                   7\n",
       "SEMIO_VERT                  7\n",
       "SEMIO_LUST                  7\n",
       "                         ... \n",
       "OST_WEST_KZ                 2\n",
       "WOHNLAGE                    8\n",
       "CAMEO_DEUG_2015            10\n",
       "CAMEO_DEU_2015             45\n",
       "CAMEO_INTL_2015            22\n",
       "KBA05_ANTG1                 5\n",
       "KBA05_ANTG2                 5\n",
       "KBA05_ANTG3                 4\n",
       "KBA05_ANTG4                 3\n",
       "KBA05_BAUMAX                6\n",
       "KBA05_GBZ                   5\n",
       "BALLRAUM                    7\n",
       "EWDICHTE                    6\n",
       "INNENSTADT                  8\n",
       "GEBAEUDETYP_RASTER          5\n",
       "KKK                         5\n",
       "MOBI_REGIO                  6\n",
       "ONLINE_AFFINITAET           6\n",
       "REGIOTYP                    8\n",
       "KBA13_ANZAHL_PKW         1261\n",
       "PLZ8_ANTG1                  5\n",
       "PLZ8_ANTG2                  5\n",
       "PLZ8_ANTG3                  4\n",
       "PLZ8_ANTG4                  3\n",
       "PLZ8_BAUMAX                 5\n",
       "PLZ8_HHZ                    5\n",
       "PLZ8_GBZ                    5\n",
       "ARBEIT                      6\n",
       "ORTSGR_KLS9                10\n",
       "RELAT_AB                    6\n",
       "Length: 85, dtype: int64"
      ]
     },
     "execution_count": 6,
     "metadata": {},
     "output_type": "execute_result"
    }
   ],
   "source": [
    "azdias.nunique()"
   ]
  },
  {
   "cell_type": "code",
   "execution_count": 7,
   "metadata": {},
   "outputs": [
    {
     "data": {
      "text/html": [
       "<div>\n",
       "<style scoped>\n",
       "    .dataframe tbody tr th:only-of-type {\n",
       "        vertical-align: middle;\n",
       "    }\n",
       "\n",
       "    .dataframe tbody tr th {\n",
       "        vertical-align: top;\n",
       "    }\n",
       "\n",
       "    .dataframe thead th {\n",
       "        text-align: right;\n",
       "    }\n",
       "</style>\n",
       "<table border=\"1\" class=\"dataframe\">\n",
       "  <thead>\n",
       "    <tr style=\"text-align: right;\">\n",
       "      <th></th>\n",
       "      <th>attribute</th>\n",
       "      <th>information_level</th>\n",
       "      <th>type</th>\n",
       "      <th>missing_or_unknown</th>\n",
       "    </tr>\n",
       "  </thead>\n",
       "  <tbody>\n",
       "    <tr>\n",
       "      <th>0</th>\n",
       "      <td>AGER_TYP</td>\n",
       "      <td>person</td>\n",
       "      <td>categorical</td>\n",
       "      <td>[-1,0]</td>\n",
       "    </tr>\n",
       "    <tr>\n",
       "      <th>1</th>\n",
       "      <td>ALTERSKATEGORIE_GROB</td>\n",
       "      <td>person</td>\n",
       "      <td>ordinal</td>\n",
       "      <td>[-1,0,9]</td>\n",
       "    </tr>\n",
       "    <tr>\n",
       "      <th>2</th>\n",
       "      <td>ANREDE_KZ</td>\n",
       "      <td>person</td>\n",
       "      <td>categorical</td>\n",
       "      <td>[-1,0]</td>\n",
       "    </tr>\n",
       "    <tr>\n",
       "      <th>3</th>\n",
       "      <td>CJT_GESAMTTYP</td>\n",
       "      <td>person</td>\n",
       "      <td>categorical</td>\n",
       "      <td>[0]</td>\n",
       "    </tr>\n",
       "    <tr>\n",
       "      <th>4</th>\n",
       "      <td>FINANZ_MINIMALIST</td>\n",
       "      <td>person</td>\n",
       "      <td>ordinal</td>\n",
       "      <td>[-1]</td>\n",
       "    </tr>\n",
       "  </tbody>\n",
       "</table>\n",
       "</div>"
      ],
      "text/plain": [
       "              attribute information_level         type missing_or_unknown\n",
       "0              AGER_TYP            person  categorical             [-1,0]\n",
       "1  ALTERSKATEGORIE_GROB            person      ordinal           [-1,0,9]\n",
       "2             ANREDE_KZ            person  categorical             [-1,0]\n",
       "3         CJT_GESAMTTYP            person  categorical                [0]\n",
       "4     FINANZ_MINIMALIST            person      ordinal               [-1]"
      ]
     },
     "execution_count": 7,
     "metadata": {},
     "output_type": "execute_result"
    }
   ],
   "source": [
    "feat_info.head()"
   ]
  },
  {
   "cell_type": "markdown",
   "metadata": {},
   "source": [
    "> **Tip**: Add additional cells to keep everything in reasonably-sized chunks! Keyboard shortcut `esc --> a` (press escape to enter command mode, then press the 'A' key) adds a new cell before the active cell, and `esc --> b` adds a new cell after the active cell. If you need to convert an active cell to a markdown cell, use `esc --> m` and to convert to a code cell, use `esc --> y`. \n",
    "\n",
    "## Step 1: Preprocessing\n",
    "\n",
    "### Step 1.1: Assess Missing Data\n",
    "\n",
    "The feature summary file contains a summary of properties for each demographics data column. You will use this file to help you make cleaning decisions during this stage of the project. First of all, you should assess the demographics data in terms of missing data. Pay attention to the following points as you perform your analysis, and take notes on what you observe. Make sure that you fill in the **Discussion** cell with your findings and decisions at the end of each step that has one!\n",
    "\n",
    "#### Step 1.1.1: Convert Missing Value Codes to NaNs\n",
    "The fourth column of the feature attributes summary (loaded in above as `feat_info`) documents the codes from the data dictionary that indicate missing or unknown data. While the file encodes this as a list (e.g. `[-1,0]`), this will get read in as a string object. You'll need to do a little bit of parsing to make use of it to identify and clean the data. Convert data that matches a 'missing' or 'unknown' value code into a numpy NaN value. You might want to see how much data takes on a 'missing' or 'unknown' code, and how much data is naturally missing, as a point of interest.\n",
    "\n",
    "**As one more reminder, you are encouraged to add additional cells to break up your analysis into manageable chunks.**"
   ]
  },
  {
   "cell_type": "code",
   "execution_count": 8,
   "metadata": {},
   "outputs": [
    {
     "data": {
      "text/plain": [
       "4896838"
      ]
     },
     "execution_count": 8,
     "metadata": {},
     "output_type": "execute_result"
    }
   ],
   "source": [
    "# Identify missing or unknown data values.\n",
    "azdias.isnull().sum().sum()"
   ]
  },
  {
   "cell_type": "code",
   "execution_count": 9,
   "metadata": {},
   "outputs": [],
   "source": [
    "def get_list(flow):\n",
    "    reg = re.compile('([a-z]+)', re.I)\n",
    "    lan = reg.sub('\"\\\\1\"', flow)\n",
    "    return ast.literal_eval(lan)"
   ]
  },
  {
   "cell_type": "code",
   "execution_count": 10,
   "metadata": {},
   "outputs": [],
   "source": [
    "def replace_nans(df_before, feat_info):\n",
    "    df_after = pd.DataFrame()\n",
    "    for col in df_before.columns:\n",
    "        fi = feat_info[feat_info['attribute'] == col].iloc[0]\n",
    "        gl = get_list(fi['missing_or_unknown'])\n",
    "        map_reg = {_:np.NaN for _ in gl}\n",
    "        df_after[col] = df_before[col].replace(map_reg)\n",
    "    return df_after"
   ]
  },
  {
   "cell_type": "code",
   "execution_count": 11,
   "metadata": {},
   "outputs": [],
   "source": [
    "# Convert missing or unknown data values to NaNs.\n",
    "azdias = replace_nans(azdias, feat_info)"
   ]
  },
  {
   "cell_type": "code",
   "execution_count": 12,
   "metadata": {},
   "outputs": [
    {
     "data": {
      "text/plain": [
       "8373929"
      ]
     },
     "execution_count": 12,
     "metadata": {},
     "output_type": "execute_result"
    }
   ],
   "source": [
    "# Identify missing or unknown data values after converting.\n",
    "azdias.isnull().sum().sum()"
   ]
  },
  {
   "cell_type": "markdown",
   "metadata": {},
   "source": [
    "#### Step 1.1.2: Assess Missing Data in Each Column\n",
    "\n",
    "How much missing data is present in each column? There are a few columns that are outliers in terms of the proportion of values that are missing. You will want to use matplotlib's [`hist()`](https://matplotlib.org/api/_as_gen/matplotlib.pyplot.hist.html) function to visualize the distribution of missing value counts to find these columns. Identify and document these columns. While some of these columns might have justifications for keeping or re-encoding the data, for this project you should just remove them from the dataframe. (Feel free to make remarks about these outlier columns in the discussion, however!)\n",
    "\n",
    "For the remaining features, are there any patterns in which columns have, or share, missing data?"
   ]
  },
  {
   "cell_type": "code",
   "execution_count": 13,
   "metadata": {},
   "outputs": [
    {
     "data": {
      "text/plain": [
       "TITEL_KZ                 889061\n",
       "AGER_TYP                 685843\n",
       "KK_KUNDENTYP             584612\n",
       "KBA05_BAUMAX             476524\n",
       "GEBURTSJAHR              392318\n",
       "ALTER_HH                 310267\n",
       "REGIOTYP                 158064\n",
       "KKK                      158064\n",
       "W_KEIT_KIND_HH           147988\n",
       "KBA05_ANTG4              133324\n",
       "KBA05_GBZ                133324\n",
       "MOBI_REGIO               133324\n",
       "KBA05_ANTG1              133324\n",
       "KBA05_ANTG2              133324\n",
       "KBA05_ANTG3              133324\n",
       "PLZ8_GBZ                 116515\n",
       "PLZ8_HHZ                 116515\n",
       "PLZ8_BAUMAX              116515\n",
       "PLZ8_ANTG4               116515\n",
       "PLZ8_ANTG1               116515\n",
       "PLZ8_ANTG3               116515\n",
       "PLZ8_ANTG2               116515\n",
       "SHOPPER_TYP              111196\n",
       "VERS_TYP                 111196\n",
       "HEALTH_TYP               111196\n",
       "NATIONALITAET_KZ         108315\n",
       "PRAEGENDE_JUGENDJAHRE    108164\n",
       "KBA13_ANZAHL_PKW         105800\n",
       "ANZ_HAUSHALTE_AKTIV       99611\n",
       "CAMEO_INTL_2015           99352\n",
       "                          ...  \n",
       "RETOURTYP_BK_S             4854\n",
       "ONLINE_AFFINITAET          4854\n",
       "LP_STATUS_FEIN             4854\n",
       "LP_STATUS_GROB             4854\n",
       "GFK_URLAUBERTYP            4854\n",
       "ALTERSKATEGORIE_GROB       2881\n",
       "FINANZTYP                     0\n",
       "GREEN_AVANTGARDE              0\n",
       "FINANZ_HAUSBAUER              0\n",
       "FINANZ_UNAUFFAELLIGER         0\n",
       "FINANZ_ANLEGER                0\n",
       "FINANZ_SPARER                 0\n",
       "FINANZ_MINIMALIST             0\n",
       "ANREDE_KZ                     0\n",
       "FINANZ_VORSORGER              0\n",
       "SEMIO_FAM                     0\n",
       "SEMIO_SOZ                     0\n",
       "SEMIO_REL                     0\n",
       "SEMIO_MAT                     0\n",
       "SEMIO_VERT                    0\n",
       "SEMIO_LUST                    0\n",
       "SEMIO_ERL                     0\n",
       "SEMIO_KULT                    0\n",
       "SEMIO_RAT                     0\n",
       "SEMIO_KRIT                    0\n",
       "SEMIO_DOM                     0\n",
       "SEMIO_KAEM                    0\n",
       "SEMIO_PFLICHT                 0\n",
       "SEMIO_TRADV                   0\n",
       "ZABEOTYP                      0\n",
       "Length: 85, dtype: int64"
      ]
     },
     "execution_count": 13,
     "metadata": {},
     "output_type": "execute_result"
    }
   ],
   "source": [
    "# Perform an assessment of how much missing data there is in each column of the\n",
    "# dataset.\n",
    "col_mis = azdias.isnull().sum()*100/azdias.shape[0]\n",
    "azdias.isna().sum().sort_values(ascending=False)"
   ]
  },
  {
   "cell_type": "code",
   "execution_count": 14,
   "metadata": {},
   "outputs": [
    {
     "data": {
      "text/plain": [
       "<matplotlib.axes._subplots.AxesSubplot at 0x7f17dea95f28>"
      ]
     },
     "execution_count": 14,
     "metadata": {},
     "output_type": "execute_result"
    },
    {
     "data": {
      "image/png": "[encoded data removed]",
      "text/plain": [
       "<matplotlib.figure.Figure at 0x7f17def53d30>"
      ]
     },
     "metadata": {
      "needs_background": "light"
     },
     "output_type": "display_data"
    }
   ],
   "source": [
    "# Investigate patterns in the amount of missing data in each column.\n",
    "azdias.isna().sum().hist(bins=50)"
   ]
  },
  {
   "cell_type": "markdown",
   "metadata": {},
   "source": [
    "Most of the columns have less than 200k missing values."
   ]
  },
  {
   "cell_type": "code",
   "execution_count": 15,
   "metadata": {},
   "outputs": [
    {
     "name": "stdout",
     "output_type": "stream",
     "text": [
      "['AGER_TYP', 'GEBURTSJAHR', 'TITEL_KZ', 'ALTER_HH', 'KK_KUNDENTYP', 'KBA05_BAUMAX']\n"
     ]
    }
   ],
   "source": [
    "# Remove the outlier columns from the dataset. (You'll perform other data\n",
    "# engineering tasks such as re-encoding and imputation later.)\n",
    "features_to_remove = list(azdias.columns[azdias.isna().sum()>200000])\n",
    "print(features_to_remove)\n",
    "azdias = azdias.drop(columns=features_to_remove, axis=1)"
   ]
  },
  {
   "cell_type": "code",
   "execution_count": 16,
   "metadata": {},
   "outputs": [
    {
     "data": {
      "image/png": "[encoded data removed]",
      "text/plain": [
       "<matplotlib.figure.Figure at 0x7f17de81ee80>"
      ]
     },
     "metadata": {
      "needs_background": "light"
     },
     "output_type": "display_data"
    }
   ],
   "source": [
    "#  Investigate patterns of remaining features.\n",
    "col_mis_ratio = col_mis.drop(features_to_remove, axis=0).sort_values(ascending=True)\n",
    "col_mis_ratio.plot.barh(figsize=(8, 20), grid=True, facecolor='b')\n",
    "plt.title(\"Missing percent in each feature\")\n",
    "plt.xlabel(\"Missiong percent\")\n",
    "plt.ylabel(\"Features\")\n",
    "plt.show()"
   ]
  },
  {
   "cell_type": "markdown",
   "metadata": {},
   "source": [
    "#### Discussion 1.1.2: Assess Missing Data in Each Column\n",
    "\n",
    "(Double click this cell and replace this text with your own text, reporting your observations regarding the amount of missing data in each column. Are there any patterns in missing values? Which columns were removed from the dataset?)"
   ]
  },
  {
   "cell_type": "markdown",
   "metadata": {},
   "source": [
    "#### Answer:\n",
    "\n",
    "1.The majority of the columns have less than 200k missing values.\n",
    "\n",
    "2.6 features (AGER_TYP, GEBURTSJAHR, TITEL_KZ, ALTER_HH, KK_KUNDENTYP, KBA05_BAUMAX) were removed.\n",
    "\n",
    "3.The remaining features share very similar pattern: all sub-features that belong to the same category can have similar percentage missing data. \n",
    "\n",
    "4.The remaining features have < 20% missing values. "
   ]
  },
  {
   "cell_type": "markdown",
   "metadata": {},
   "source": [
    "#### Step 1.1.3: Assess Missing Data in Each Row\n",
    "\n",
    "Now, you'll perform a similar assessment for the rows of the dataset. How much data is missing in each row? As with the columns, you should see some groups of points that have a very different numbers of missing values. Divide the data into two subsets: one for data points that are above some threshold for missing values, and a second subset for points below that threshold.\n",
    "\n",
    "In order to know what to do with the outlier rows, we should see if the distribution of data values on columns that are not missing data (or are missing very little data) are similar or different between the two groups. Select at least five of these columns and compare the distribution of values.\n",
    "- You can use seaborn's [`countplot()`](https://seaborn.pydata.org/generated/seaborn.countplot.html) function to create a bar chart of code frequencies and matplotlib's [`subplot()`](https://matplotlib.org/api/_as_gen/matplotlib.pyplot.subplot.html) function to put bar charts for the two subplots side by side.\n",
    "- To reduce repeated code, you might want to write a function that can perform this comparison, taking as one of its arguments a column to be compared.\n",
    "\n",
    "Depending on what you observe in your comparison, this will have implications on how you approach your conclusions later in the analysis. If the distributions of non-missing features look similar between the data with many missing values and the data with few or no missing values, then we could argue that simply dropping those points from the analysis won't present a major issue. On the other hand, if the data with many missing values looks very different from the data with few or no missing values, then we should make a note on those data as special. We'll revisit these data later on. **Either way, you should continue your analysis for now using just the subset of the data with few or no missing values.**"
   ]
  },
  {
   "cell_type": "code",
   "execution_count": 17,
   "metadata": {},
   "outputs": [
    {
     "data": {
      "text/plain": [
       "<matplotlib.axes._subplots.AxesSubplot at 0x7f17de5e2898>"
      ]
     },
     "execution_count": 17,
     "metadata": {},
     "output_type": "execute_result"
    },
    {
     "data": {
      "image/png": "[encoded data removed]",
      "text/plain": [
       "<matplotlib.figure.Figure at 0x7f17de580b38>"
      ]
     },
     "metadata": {
      "needs_background": "light"
     },
     "output_type": "display_data"
    }
   ],
   "source": [
    "# How much data is missing in each row of the dataset?\n",
    "azdias.isna().sum(axis=1).hist(bins=50)"
   ]
  },
  {
   "cell_type": "markdown",
   "metadata": {},
   "source": [
    "Most of the rows have less than 20 missing columns."
   ]
  },
  {
   "cell_type": "code",
   "execution_count": 18,
   "metadata": {},
   "outputs": [
    {
     "data": {
      "text/plain": [
       "True"
      ]
     },
     "execution_count": 18,
     "metadata": {},
     "output_type": "execute_result"
    }
   ],
   "source": [
    "# Write code to divide the data into two subsets based on the number of missing\n",
    "# values in each row.\n",
    "miss_vals_per_row_threshold = 20\n",
    "miss_vals_per_row = azdias.isnull().sum(axis=1)\n",
    "azdias_1 = azdias[miss_vals_per_row <= miss_vals_per_row_threshold]\n",
    "azdias_2 = azdias[miss_vals_per_row > miss_vals_per_row_threshold]\n",
    "azdias_1.shape[0] + azdias_2.shape[0] == azdias.shape[0]"
   ]
  },
  {
   "cell_type": "code",
   "execution_count": 19,
   "metadata": {},
   "outputs": [
    {
     "data": {
      "image/png": "[encoded data removed]",
      "text/plain": [
       "<matplotlib.figure.Figure at 0x7f17de751a90>"
      ]
     },
     "metadata": {
      "needs_background": "light"
     },
     "output_type": "display_data"
    },
    {
     "data": {
      "image/png": "[encoded data removed]",
      "text/plain": [
       "<matplotlib.figure.Figure at 0x7f17dcba0048>"
      ]
     },
     "metadata": {
      "needs_background": "light"
     },
     "output_type": "display_data"
    },
    {
     "data": {
      "image/png": "[encoded data removed]",
      "text/plain": [
       "<matplotlib.figure.Figure at 0x7f17dca6f0b8>"
      ]
     },
     "metadata": {
      "needs_background": "light"
     },
     "output_type": "display_data"
    },
    {
     "data": {
      "image/png": "[encoded data removed]",
      "text/plain": [
       "<matplotlib.figure.Figure at 0x7f17dcbfab70>"
      ]
     },
     "metadata": {
      "needs_background": "light"
     },
     "output_type": "display_data"
    },
    {
     "data": {
      "image/png": "[encoded data removed]",
      "text/plain": [
       "<matplotlib.figure.Figure at 0x7f17dc940b38>"
      ]
     },
     "metadata": {
      "needs_background": "light"
     },
     "output_type": "display_data"
    }
   ],
   "source": [
    "# Compare the distribution of values for at least five columns where there are\n",
    "# no or few missing values, between the two subsets.\n",
    "for col in azdias.columns[5:10]:\n",
    "    fig = plt.figure()\n",
    "    ax1 = fig.add_subplot(121)\n",
    "    ax1.hist(azdias_1[col])\n",
    "    ax1.set_title('<= 20 missing features')\n",
    "    plt.grid(True)\n",
    "    fig.tight_layout()\n",
    "    plt.xlabel(col)\n",
    "    plt.ylabel('Rows')\n",
    "    ax2 = fig.add_subplot(122)\n",
    "    ax2.hist(azdias_2[col])\n",
    "    ax2.set_title('> 20 missing features')\n",
    "    plt.grid(True)\n",
    "    fig.tight_layout()\n",
    "    plt.xlabel(col)\n",
    "    plt.ylabel('Rows')"
   ]
  },
  {
   "cell_type": "markdown",
   "metadata": {},
   "source": [
    "#### Discussion 1.1.3: Assess Missing Data in Each Row\n",
    "\n",
    "(Double-click this cell and replace this text with your own text, reporting your observations regarding missing data in rows. Are the data with lots of missing values are qualitatively different from data with few or no missing values?)\n",
    "\n",
    "#### Answer:\n",
    "From histograms comparing five features seperately, those observations with <= 20 missing values are qualitatively different from obser with > 20 missing values."
   ]
  },
  {
   "cell_type": "markdown",
   "metadata": {},
   "source": [
    "### Step 1.2: Select and Re-Encode Features\n",
    "\n",
    "Checking for missing data isn't the only way in which you can prepare a dataset for analysis. Since the unsupervised learning techniques to be used will only work on data that is encoded numerically, you need to make a few encoding changes or additional assumptions to be able to make progress. In addition, while almost all of the values in the dataset are encoded using numbers, not all of them represent numeric values. Check the third column of the feature summary (`feat_info`) for a summary of types of measurement.\n",
    "- For numeric and interval data, these features can be kept without changes.\n",
    "- Most of the variables in the dataset are ordinal in nature. While ordinal values may technically be non-linear in spacing, make the simplifying assumption that the ordinal variables can be treated as being interval in nature (that is, kept without any changes).\n",
    "- Special handling may be necessary for the remaining two variable types: categorical, and 'mixed'.\n",
    "\n",
    "In the first two parts of this sub-step, you will perform an investigation of the categorical and mixed-type features and make a decision on each of them, whether you will keep, drop, or re-encode each. Then, in the last part, you will create a new data frame with only the selected and engineered columns.\n",
    "\n",
    "Data wrangling is often the trickiest part of the data analysis process, and there's a lot of it to be done here. But stick with it: once you're done with this step, you'll be ready to get to the machine learning parts of the project!"
   ]
  },
  {
   "cell_type": "code",
   "execution_count": 20,
   "metadata": {},
   "outputs": [
    {
     "data": {
      "text/plain": [
       "ordinal        49\n",
       "categorical    21\n",
       "numeric         7\n",
       "mixed           7\n",
       "interval        1\n",
       "Name: type, dtype: int64"
      ]
     },
     "execution_count": 20,
     "metadata": {},
     "output_type": "execute_result"
    }
   ],
   "source": [
    "# How many features are there of each data type?\n",
    "feat_info['type'].value_counts()"
   ]
  },
  {
   "cell_type": "markdown",
   "metadata": {},
   "source": [
    "#### Step 1.2.1: Re-Encode Categorical Features\n",
    "\n",
    "For categorical data, you would ordinarily need to encode the levels as dummy variables. Depending on the number of categories, perform one of the following:\n",
    "- For binary (two-level) categoricals that take numeric values, you can keep them without needing to do anything.\n",
    "- There is one binary variable that takes on non-numeric values. For this one, you need to re-encode the values as numbers or create a dummy variable.\n",
    "- For multi-level categoricals (three or more values), you can choose to encode the values using multiple dummy variables (e.g. via [OneHotEncoder](http://scikit-learn.org/stable/modules/generated/sklearn.preprocessing.OneHotEncoder.html)), or (to keep things straightforward) just drop them from the analysis. As always, document your choices in the Discussion section."
   ]
  },
  {
   "cell_type": "code",
   "execution_count": 21,
   "metadata": {},
   "outputs": [
    {
     "name": "stdout",
     "output_type": "stream",
     "text": [
      "FINANZTYP [1 6 5 2 4 3]\n",
      "LP_FAMILIE_FEIN [  5.   1.  nan  10.   2.   7.  11.   8.   4.   6.   9.   3.]\n",
      "GREEN_AVANTGARDE [0 1]\n",
      "SOHO_KZ [ 1.  0.]\n",
      "CAMEO_DEU_2015 ['8A' '4C' '2A' '6B' '8C' '4A' '2D' '1A' '1E' '9D' '5C' '8B' '7A' '5D' '9E'\n",
      " nan '9B' '1B' '3D' '4E' '4B' '3C' '5A' '7B' '9A' '6D' '6E' '2C' '7C' '9C'\n",
      " '7D' '5E' '1D' '8D' '6C' '6A' '5B' '4D' '3A' '2B' '7E' '3B' '6F' '5F' '1C']\n",
      "SHOPPER_TYP [  3.   2.   1.   0.  nan]\n",
      "OST_WEST_KZ ['W' 'O']\n",
      "LP_STATUS_FEIN [  2.   3.   9.   4.   1.  10.   5.   8.   6.   7.  nan]\n",
      "LP_STATUS_GROB [  1.   2.   4.   5.   3.  nan]\n",
      "ZABEOTYP [5 3 4 1 6 2]\n",
      "GFK_URLAUBERTYP [ 10.   1.   5.  12.   9.   3.   8.  11.   4.   2.   7.   6.  nan]\n",
      "CAMEO_DEUG_2015 ['8' '4' '2' '6' '1' '9' '5' '7' nan '3']\n",
      "NATIONALITAET_KZ [  1.   3.   2.  nan]\n",
      "VERS_TYP [  2.   1.  nan]\n",
      "GEBAEUDETYP [ 8.  1.  3.  2.  6.  4.  5.]\n",
      "CJT_GESAMTTYP [  5.   3.   2.   4.   1.   6.  nan]\n",
      "ANREDE_KZ [2 1]\n",
      "LP_FAMILIE_GROB [  3.   1.  nan   5.   2.   4.]\n"
     ]
    }
   ],
   "source": [
    "# Assess categorical variables: which are binary, which are multi-level, and\n",
    "# which one needs to be re-encoded?\n",
    "categorical_var = set(feat_info[feat_info['type'] == 'categorical'].attribute).intersection(list(azdias_1))\n",
    "for i in categorical_var:\n",
    "    print(i,azdias_1[i].unique(),end = '\\n')"
   ]
  },
  {
   "cell_type": "code",
   "execution_count": 22,
   "metadata": {},
   "outputs": [
    {
     "name": "stderr",
     "output_type": "stream",
     "text": [
      "/opt/conda/lib/python3.6/site-packages/pandas/core/generic.py:5434: SettingWithCopyWarning: \n",
      "A value is trying to be set on a copy of a slice from a DataFrame\n",
      "\n",
      "See the caveats in the documentation: http://pandas.pydata.org/pandas-docs/stable/indexing.html#indexing-view-versus-copy\n",
      "  self._update_inplace(new_data)\n"
     ]
    }
   ],
   "source": [
    "# replace the most frequent value with NaN in each column\n",
    "def replace_NaN_with_freq_value(df, feature):\n",
    "    most_frequent_category = df.groupby([feature])[feature].count().sort_values(ascending=False).index[0]\n",
    "    # replace NaN\n",
    "    df[feature].fillna(most_frequent_category, inplace=True )  \n",
    "    \n",
    "NaN_cols = azdias_1.columns[azdias_1.isnull().any()].tolist()\n",
    "for col in NaN_cols:\n",
    "    replace_NaN_with_freq_value(azdias_1, col)"
   ]
  },
  {
   "cell_type": "code",
   "execution_count": 23,
   "metadata": {},
   "outputs": [
    {
     "name": "stdout",
     "output_type": "stream",
     "text": [
      "FINANZTYP [1 6 5 2 4 3]\n",
      "LP_FAMILIE_FEIN [  5.   1.  10.   2.   7.  11.   8.   4.   6.   9.   3.]\n",
      "GREEN_AVANTGARDE [0 1]\n",
      "SOHO_KZ [ 1.  0.]\n",
      "CAMEO_DEU_2015 ['8A' '4C' '2A' '6B' '8C' '4A' '2D' '1A' '1E' '9D' '5C' '8B' '7A' '5D' '9E'\n",
      " '9B' '1B' '3D' '4E' '4B' '3C' '5A' '7B' '9A' '6D' '6E' '2C' '7C' '9C' '7D'\n",
      " '5E' '1D' '8D' '6C' '6A' '5B' '4D' '3A' '2B' '7E' '3B' '6F' '5F' '1C']\n",
      "SHOPPER_TYP [ 3.  2.  1.  0.]\n",
      "OST_WEST_KZ ['W' 'O']\n",
      "LP_STATUS_FEIN [  2.   3.   9.   4.   1.  10.   5.   8.   6.   7.]\n",
      "LP_STATUS_GROB [ 1.  2.  4.  5.  3.]\n",
      "ZABEOTYP [5 3 4 1 6 2]\n",
      "GFK_URLAUBERTYP [ 10.   1.   5.  12.   9.   3.   8.  11.   4.   2.   7.   6.]\n",
      "CAMEO_DEUG_2015 ['8' '4' '2' '6' '1' '9' '5' '7' '3']\n",
      "NATIONALITAET_KZ [ 1.  3.  2.]\n",
      "VERS_TYP [ 2.  1.]\n",
      "GEBAEUDETYP [ 8.  1.  3.  2.  6.  4.  5.]\n",
      "CJT_GESAMTTYP [ 5.  3.  2.  4.  1.  6.]\n",
      "ANREDE_KZ [2 1]\n",
      "LP_FAMILIE_GROB [ 3.  1.  5.  2.  4.]\n"
     ]
    }
   ],
   "source": [
    "# check again whether there are missing values in data set\n",
    "for i in categorical_var:\n",
    "    print(i,azdias_1[i].unique(),end = '\\n')"
   ]
  },
  {
   "cell_type": "code",
   "execution_count": 24,
   "metadata": {},
   "outputs": [
    {
     "data": {
      "text/plain": [
       "ANREDE_KZ             int64\n",
       "OST_WEST_KZ          object\n",
       "SOHO_KZ             float64\n",
       "GREEN_AVANTGARDE      int64\n",
       "VERS_TYP            float64\n",
       "dtype: object"
      ]
     },
     "execution_count": 24,
     "metadata": {},
     "output_type": "execute_result"
    }
   ],
   "source": [
    "cata_num = azdias_1[list(categorical_var)].nunique().sort_values(ascending=False)\n",
    "azdias_1[cata_num[cata_num == 2].index].dtypes"
   ]
  },
  {
   "cell_type": "code",
   "execution_count": 25,
   "metadata": {},
   "outputs": [
    {
     "name": "stderr",
     "output_type": "stream",
     "text": [
      "/opt/conda/lib/python3.6/site-packages/ipykernel_launcher.py:2: SettingWithCopyWarning: \n",
      "A value is trying to be set on a copy of a slice from a DataFrame.\n",
      "Try using .loc[row_indexer,col_indexer] = value instead\n",
      "\n",
      "See the caveats in the documentation: http://pandas.pydata.org/pandas-docs/stable/indexing.html#indexing-view-versus-copy\n",
      "  \n"
     ]
    }
   ],
   "source": [
    "# Re-encode categorical variable(s) to be kept in the analysis.\n",
    "azdias_1['OST_WEST_KZ'] = azdias_1['OST_WEST_KZ'].replace({'W':1,'O':0}).astype(float)"
   ]
  },
  {
   "cell_type": "code",
   "execution_count": 26,
   "metadata": {},
   "outputs": [
    {
     "data": {
      "text/plain": [
       "ANREDE_KZ             int64\n",
       "OST_WEST_KZ         float64\n",
       "SOHO_KZ             float64\n",
       "GREEN_AVANTGARDE      int64\n",
       "VERS_TYP            float64\n",
       "dtype: object"
      ]
     },
     "execution_count": 26,
     "metadata": {},
     "output_type": "execute_result"
    }
   ],
   "source": [
    "azdias_1[cata_num[cata_num == 2].index].dtypes"
   ]
  },
  {
   "cell_type": "code",
   "execution_count": 27,
   "metadata": {},
   "outputs": [],
   "source": [
    "azdias_1 = pd.get_dummies(azdias_1,columns = cata_num[cata_num > 2].index)"
   ]
  },
  {
   "cell_type": "code",
   "execution_count": 28,
   "metadata": {},
   "outputs": [
    {
     "data": {
      "text/plain": [
       "(797426, 194)"
      ]
     },
     "execution_count": 28,
     "metadata": {},
     "output_type": "execute_result"
    }
   ],
   "source": [
    "azdias_1.shape"
   ]
  },
  {
   "cell_type": "markdown",
   "metadata": {},
   "source": [
    "#### Discussion 1.2.1: Re-Encode Categorical Features\n",
    "\n",
    "(Double-click this cell and replace this text with your own text, reporting your findings and decisions regarding categorical features. Which ones did you keep, which did you drop, and what engineering steps did you perform?)"
   ]
  },
  {
   "cell_type": "markdown",
   "metadata": {},
   "source": [
    "#### Answer\n",
    "All caterorical features were kept.Features with NaNs were replaced with most frequent values of its own column.Binary categorical feature OST_WEST_KZ was coded to numeric value. Multiple level categorical feature were endcoded to multiple dummy variables."
   ]
  },
  {
   "cell_type": "markdown",
   "metadata": {},
   "source": [
    "#### Step 1.2.2: Engineer Mixed-Type Features\n",
    "\n",
    "There are a handful of features that are marked as \"mixed\" in the feature summary that require special treatment in order to be included in the analysis. There are two in particular that deserve attention; the handling of the rest are up to your own choices:\n",
    "- \"PRAEGENDE_JUGENDJAHRE\" combines information on three dimensions: generation by decade, movement (mainstream vs. avantgarde), and nation (east vs. west). While there aren't enough levels to disentangle east from west, you should create two new variables to capture the other two dimensions: an interval-type variable for decade, and a binary variable for movement.\n",
    "- \"CAMEO_INTL_2015\" combines information on two axes: wealth and life stage. Break up the two-digit codes by their 'tens'-place and 'ones'-place digits into two new ordinal variables (which, for the purposes of this project, is equivalent to just treating them as their raw numeric values).\n",
    "- If you decide to keep or engineer new features around the other mixed-type features, make sure you note your steps in the Discussion section.\n",
    "\n",
    "Be sure to check `Data_Dictionary.md` for the details needed to finish these tasks."
   ]
  },
  {
   "cell_type": "code",
   "execution_count": 29,
   "metadata": {},
   "outputs": [
    {
     "data": {
      "text/plain": [
       "array([ nan,  14.,  15.,   8.,   3.,  10.,  11.,   5.,   9.,   6.,   4.,\n",
       "         2.,   1.,  12.,  13.,   7.])"
      ]
     },
     "execution_count": 29,
     "metadata": {},
     "output_type": "execute_result"
    }
   ],
   "source": [
    "# Investigate \"PRAEGENDE_JUGENDJAHRE\" and engineer two new variables.\n",
    "azdias['PRAEGENDE_JUGENDJAHRE'].unique()"
   ]
  },
  {
   "cell_type": "code",
   "execution_count": 30,
   "metadata": {},
   "outputs": [],
   "source": [
    "def age(x):\n",
    "    if (pd.isnull(x)):\n",
    "        return np.nan\n",
    "    elif (x in [1,2]):\n",
    "        return 40\n",
    "    elif (x in [3,4]):\n",
    "        return 50\n",
    "    elif (x in [5,6,7]):\n",
    "        return 60\n",
    "    elif (x in [8,9]):\n",
    "        return 70\n",
    "    elif (x in [10,11]):\n",
    "        return 80\n",
    "    return 90\n",
    "\n",
    "def movement(x):\n",
    "    if (pd.isnull(x)):\n",
    "        return np.nan\n",
    "    elif (x in [1,3,5,8,10,12,14]):\n",
    "        return 'Mainstream'\n",
    "    return 'Avantgarde'"
   ]
  },
  {
   "cell_type": "code",
   "execution_count": 31,
   "metadata": {},
   "outputs": [],
   "source": [
    "azdias_1['PRAEGENDE_JUGENDJAHRE_AGE'] = azdias_1.PRAEGENDE_JUGENDJAHRE.apply(age)\n",
    "azdias_1['PRAEGENDE_JUGENDJAHRE_MOVEMENT'] = azdias_1.PRAEGENDE_JUGENDJAHRE.apply(movement)"
   ]
  },
  {
   "cell_type": "code",
   "execution_count": 32,
   "metadata": {},
   "outputs": [
    {
     "data": {
      "text/html": [
       "<div>\n",
       "<style scoped>\n",
       "    .dataframe tbody tr th:only-of-type {\n",
       "        vertical-align: middle;\n",
       "    }\n",
       "\n",
       "    .dataframe tbody tr th {\n",
       "        vertical-align: top;\n",
       "    }\n",
       "\n",
       "    .dataframe thead th {\n",
       "        text-align: right;\n",
       "    }\n",
       "</style>\n",
       "<table border=\"1\" class=\"dataframe\">\n",
       "  <thead>\n",
       "    <tr style=\"text-align: right;\">\n",
       "      <th></th>\n",
       "      <th>PRAEGENDE_JUGENDJAHRE</th>\n",
       "      <th>PRAEGENDE_JUGENDJAHRE_AGE</th>\n",
       "      <th>PRAEGENDE_JUGENDJAHRE_MOVEMENT</th>\n",
       "    </tr>\n",
       "  </thead>\n",
       "  <tbody>\n",
       "    <tr>\n",
       "      <th>1</th>\n",
       "      <td>14.0</td>\n",
       "      <td>90</td>\n",
       "      <td>Mainstream</td>\n",
       "    </tr>\n",
       "    <tr>\n",
       "      <th>2</th>\n",
       "      <td>15.0</td>\n",
       "      <td>90</td>\n",
       "      <td>Avantgarde</td>\n",
       "    </tr>\n",
       "    <tr>\n",
       "      <th>3</th>\n",
       "      <td>8.0</td>\n",
       "      <td>70</td>\n",
       "      <td>Mainstream</td>\n",
       "    </tr>\n",
       "    <tr>\n",
       "      <th>4</th>\n",
       "      <td>8.0</td>\n",
       "      <td>70</td>\n",
       "      <td>Mainstream</td>\n",
       "    </tr>\n",
       "    <tr>\n",
       "      <th>5</th>\n",
       "      <td>3.0</td>\n",
       "      <td>50</td>\n",
       "      <td>Mainstream</td>\n",
       "    </tr>\n",
       "  </tbody>\n",
       "</table>\n",
       "</div>"
      ],
      "text/plain": [
       "   PRAEGENDE_JUGENDJAHRE  PRAEGENDE_JUGENDJAHRE_AGE  \\\n",
       "1                   14.0                         90   \n",
       "2                   15.0                         90   \n",
       "3                    8.0                         70   \n",
       "4                    8.0                         70   \n",
       "5                    3.0                         50   \n",
       "\n",
       "  PRAEGENDE_JUGENDJAHRE_MOVEMENT  \n",
       "1                     Mainstream  \n",
       "2                     Avantgarde  \n",
       "3                     Mainstream  \n",
       "4                     Mainstream  \n",
       "5                     Mainstream  "
      ]
     },
     "execution_count": 32,
     "metadata": {},
     "output_type": "execute_result"
    }
   ],
   "source": [
    "azdias_1[['PRAEGENDE_JUGENDJAHRE', 'PRAEGENDE_JUGENDJAHRE_AGE', 'PRAEGENDE_JUGENDJAHRE_MOVEMENT']].head()"
   ]
  },
  {
   "cell_type": "code",
   "execution_count": 33,
   "metadata": {},
   "outputs": [
    {
     "data": {
      "text/plain": [
       "array([nan, '51', '24', '12', '43', '54', '22', '14', '13', '15', '33',\n",
       "       '41', '34', '55', '25', '23', '31', '52', '35', '45', '44', '32'], dtype=object)"
      ]
     },
     "execution_count": 33,
     "metadata": {},
     "output_type": "execute_result"
    }
   ],
   "source": [
    "# Investigate \"CAMEO_INTL_2015\" and engineer two new variables.\n",
    "azdias['CAMEO_INTL_2015'].unique()"
   ]
  },
  {
   "cell_type": "code",
   "execution_count": 34,
   "metadata": {},
   "outputs": [],
   "source": [
    "def wealth(x):\n",
    "    if (pd.isnull(x)):\n",
    "        return np.nan\n",
    "    return str(x)[0]\n",
    "\n",
    "def life_stage(x):\n",
    "    if (pd.isnull(x)):\n",
    "        return np.nan\n",
    "    return str(x)[1]"
   ]
  },
  {
   "cell_type": "code",
   "execution_count": 35,
   "metadata": {},
   "outputs": [],
   "source": [
    "wealth_ord_map={'1':1,'2':2,'3':3,'4':4,'5':5}\n",
    "lifestage_ord_map={'1':1,'2':2,'3':3,'4':4,'5':5}"
   ]
  },
  {
   "cell_type": "code",
   "execution_count": 36,
   "metadata": {},
   "outputs": [],
   "source": [
    "azdias_1['CAMEO_INTL_2015_WEALTH'] = azdias_1.CAMEO_INTL_2015.apply(wealth).map(wealth_ord_map)\n",
    "azdias_1['CAMEO_INTL_2015_LIFE_STAGE'] = azdias_1.CAMEO_INTL_2015.apply(life_stage).map(lifestage_ord_map)"
   ]
  },
  {
   "cell_type": "code",
   "execution_count": 37,
   "metadata": {},
   "outputs": [
    {
     "data": {
      "text/html": [
       "<div>\n",
       "<style scoped>\n",
       "    .dataframe tbody tr th:only-of-type {\n",
       "        vertical-align: middle;\n",
       "    }\n",
       "\n",
       "    .dataframe tbody tr th {\n",
       "        vertical-align: top;\n",
       "    }\n",
       "\n",
       "    .dataframe thead th {\n",
       "        text-align: right;\n",
       "    }\n",
       "</style>\n",
       "<table border=\"1\" class=\"dataframe\">\n",
       "  <thead>\n",
       "    <tr style=\"text-align: right;\">\n",
       "      <th></th>\n",
       "      <th>CAMEO_INTL_2015</th>\n",
       "      <th>CAMEO_INTL_2015_WEALTH</th>\n",
       "      <th>CAMEO_INTL_2015_LIFE_STAGE</th>\n",
       "    </tr>\n",
       "  </thead>\n",
       "  <tbody>\n",
       "    <tr>\n",
       "      <th>1</th>\n",
       "      <td>51</td>\n",
       "      <td>5</td>\n",
       "      <td>1</td>\n",
       "    </tr>\n",
       "    <tr>\n",
       "      <th>2</th>\n",
       "      <td>24</td>\n",
       "      <td>2</td>\n",
       "      <td>4</td>\n",
       "    </tr>\n",
       "    <tr>\n",
       "      <th>3</th>\n",
       "      <td>12</td>\n",
       "      <td>1</td>\n",
       "      <td>2</td>\n",
       "    </tr>\n",
       "    <tr>\n",
       "      <th>4</th>\n",
       "      <td>43</td>\n",
       "      <td>4</td>\n",
       "      <td>3</td>\n",
       "    </tr>\n",
       "    <tr>\n",
       "      <th>5</th>\n",
       "      <td>54</td>\n",
       "      <td>5</td>\n",
       "      <td>4</td>\n",
       "    </tr>\n",
       "  </tbody>\n",
       "</table>\n",
       "</div>"
      ],
      "text/plain": [
       "  CAMEO_INTL_2015  CAMEO_INTL_2015_WEALTH  CAMEO_INTL_2015_LIFE_STAGE\n",
       "1              51                       5                           1\n",
       "2              24                       2                           4\n",
       "3              12                       1                           2\n",
       "4              43                       4                           3\n",
       "5              54                       5                           4"
      ]
     },
     "execution_count": 37,
     "metadata": {},
     "output_type": "execute_result"
    }
   ],
   "source": [
    "azdias_1[['CAMEO_INTL_2015','CAMEO_INTL_2015_WEALTH','CAMEO_INTL_2015_LIFE_STAGE']].head()"
   ]
  },
  {
   "cell_type": "code",
   "execution_count": 38,
   "metadata": {},
   "outputs": [],
   "source": [
    "azdias_1 = azdias_1.drop(['PRAEGENDE_JUGENDJAHRE', 'CAMEO_INTL_2015'], axis = 1)"
   ]
  },
  {
   "cell_type": "code",
   "execution_count": 39,
   "metadata": {},
   "outputs": [],
   "source": [
    "azdias_1 = pd.get_dummies(azdias_1,columns = ['PRAEGENDE_JUGENDJAHRE_MOVEMENT'])"
   ]
  },
  {
   "cell_type": "code",
   "execution_count": 40,
   "metadata": {},
   "outputs": [
    {
     "data": {
      "text/plain": [
       "(797426, 197)"
      ]
     },
     "execution_count": 40,
     "metadata": {},
     "output_type": "execute_result"
    }
   ],
   "source": [
    "azdias_1.shape"
   ]
  },
  {
   "cell_type": "markdown",
   "metadata": {},
   "source": [
    "#### Discussion 1.2.2: Engineer Mixed-Type Features\n",
    "\n",
    "(Double-click this cell and replace this text with your own text, reporting your findings and decisions regarding mixed-value features. Which ones did you keep, which did you drop, and what engineering steps did you perform?)"
   ]
  },
  {
   "cell_type": "markdown",
   "metadata": {},
   "source": [
    "#### Answer:\n",
    "\n",
    "PRAEGENDE_JUGENDJAHRE is re-encoded in two new variables: movement and age.CAMEO_INTL_2015 is re-encoded in two new variables: wealth and life_stage.Both of the original columns above are dropped."
   ]
  },
  {
   "cell_type": "markdown",
   "metadata": {},
   "source": [
    "#### Step 1.2.3: Complete Feature Selection\n",
    "\n",
    "In order to finish this step up, you need to make sure that your data frame now only has the columns that you want to keep. To summarize, the dataframe should consist of the following:\n",
    "- All numeric, interval, and ordinal type columns from the original dataset.\n",
    "- Binary categorical features (all numerically-encoded).\n",
    "- Engineered features from other multi-level categorical features and mixed features.\n",
    "\n",
    "Make sure that for any new columns that you have engineered, that you've excluded the original columns from the final dataset. Otherwise, their values will interfere with the analysis later on the project. For example, you should not keep \"PRAEGENDE_JUGENDJAHRE\", since its values won't be useful for the algorithm: only the values derived from it in the engineered features you created should be retained. As a reminder, your data should only be from **the subset with few or no missing values**."
   ]
  },
  {
   "cell_type": "code",
   "execution_count": 41,
   "metadata": {},
   "outputs": [
    {
     "name": "stdout",
     "output_type": "stream",
     "text": [
      "LP_LEBENSPHASE_GROB [  6.   1.   2.  10.   3.   5.   7.  12.  11.   9.   4.   8.]\n",
      "LP_LEBENSPHASE_FEIN [ 21.   3.   1.  32.   8.   2.   5.  10.   4.   6.  23.  12.  20.  11.  25.\n",
      "  13.  18.  31.  38.  35.  30.   7.  22.  14.  29.  24.  28.  37.  26.  39.\n",
      "  27.  36.   9.  34.  33.  15.  40.  16.  19.  17.]\n",
      "PLZ8_BAUMAX [ 1.  2.  4.  5.  3.]\n",
      "WOHNLAGE [ 4.  2.  7.  3.  5.  1.  8.  0.]\n"
     ]
    }
   ],
   "source": [
    "# If there are other re-engineering tasks you need to perform, make sure you\n",
    "# take care of them here. (Dealing with missing data will come in step 2.1.)\n",
    "mixed_var = set(feat_info[feat_info['type'] == 'mixed'].attribute).intersection(list(azdias_1))\n",
    "for i in mixed_var:\n",
    "    print(i,azdias_1[i].unique(),end = '\\n')"
   ]
  },
  {
   "cell_type": "code",
   "execution_count": 42,
   "metadata": {},
   "outputs": [],
   "source": [
    "# Do whatever you need to in order to ensure that the dataframe only contains\n",
    "# the columns that should be passed to the algorithm functions.\n",
    "azdias_1.drop(list(mixed_var),axis=1,inplace=True)"
   ]
  },
  {
   "cell_type": "code",
   "execution_count": 43,
   "metadata": {},
   "outputs": [
    {
     "data": {
      "text/plain": [
       "(797426, 193)"
      ]
     },
     "execution_count": 43,
     "metadata": {},
     "output_type": "execute_result"
    }
   ],
   "source": [
    "azdias_1.shape"
   ]
  },
  {
   "cell_type": "code",
   "execution_count": 44,
   "metadata": {},
   "outputs": [
    {
     "data": {
      "text/plain": [
       "uint8      130\n",
       "float64     38\n",
       "int64       25\n",
       "dtype: int64"
      ]
     },
     "execution_count": 44,
     "metadata": {},
     "output_type": "execute_result"
    }
   ],
   "source": [
    "azdias_1.dtypes.value_counts()"
   ]
  },
  {
   "cell_type": "markdown",
   "metadata": {},
   "source": [
    "### Step 1.3: Create a Cleaning Function\n",
    "\n",
    "Even though you've finished cleaning up the general population demographics data, it's important to look ahead to the future and realize that you'll need to perform the same cleaning steps on the customer demographics data. In this substep, complete the function below to execute the main feature selection, encoding, and re-engineering steps you performed above. Then, when it comes to looking at the customer data in Step 3, you can just run this function on that DataFrame to get the trimmed dataset in a single step."
   ]
  },
  {
   "cell_type": "code",
   "execution_count": 45,
   "metadata": {},
   "outputs": [],
   "source": [
    "def clean_data(df):\n",
    "    \"\"\"\n",
    "    Perform feature trimming, re-encoding, and engineering for demographics\n",
    "    data\n",
    "    \n",
    "    INPUT: Demographics DataFrame\n",
    "    OUTPUT: Trimmed and cleaned demographics DataFrame\n",
    "    \"\"\"\n",
    "    \n",
    "    # Put in code here to execute all main cleaning steps:\n",
    "    # convert missing value codes into NaNs, ...\n",
    "    df = replace_nans(df, feat_info)\n",
    "    # remove selected columns and rows, ...    \n",
    "    df = df.drop(columns=features_to_remove, axis=1)\n",
    "    miss_vals_per_row = df.isnull().sum(axis=1)\n",
    "    df_1 = df[miss_vals_per_row <= miss_vals_per_row_threshold]    \n",
    "    # select, re-encode, and engineer column values.\n",
    "    NaN_cols = df_1.columns[df_1.isnull().any()].tolist()\n",
    "    for col in NaN_cols:\n",
    "        replace_NaN_with_freq_value(df_1, col)\n",
    "    df_1['OST_WEST_KZ'] = df_1['OST_WEST_KZ'].replace({'W':1,'O':0}).astype(float)\n",
    "    cata_num = df_1[list(categorical_var)].nunique().sort_values(ascending=False)    \n",
    "    df_1 = pd.get_dummies(df_1,columns = cata_num[cata_num > 2].index)    \n",
    "    df_1['PRAEGENDE_JUGENDJAHRE_AGE'] = df_1.PRAEGENDE_JUGENDJAHRE.apply(age)\n",
    "    df_1['PRAEGENDE_JUGENDJAHRE_MOVEMENT'] = df_1.PRAEGENDE_JUGENDJAHRE.apply(movement)    \n",
    "    wealth_ord_map={'1':1,'2':2,'3':3,'4':4,'5':5}\n",
    "    lifestage_ord_map={'1':1,'2':2,'3':3,'4':4,'5':5}\n",
    "    df_1['CAMEO_INTL_2015_WEALTH'] = df_1.CAMEO_INTL_2015.apply(wealth).map(wealth_ord_map)\n",
    "    df_1['CAMEO_INTL_2015_LIFE_STAGE'] = df_1.CAMEO_INTL_2015.apply(life_stage).map(lifestage_ord_map)    \n",
    "    df_1 = df_1.drop(['PRAEGENDE_JUGENDJAHRE', 'CAMEO_INTL_2015'], axis = 1)\n",
    "    df_1 = pd.get_dummies(df_1,columns = ['PRAEGENDE_JUGENDJAHRE_MOVEMENT'])        \n",
    "    df_1.drop(list(mixed_var),axis=1,inplace=True)\n",
    "    # Return the cleaned dataframe.\n",
    "    return df_1\n",
    "    "
   ]
  },
  {
   "cell_type": "code",
   "execution_count": 46,
   "metadata": {},
   "outputs": [
    {
     "name": "stderr",
     "output_type": "stream",
     "text": [
      "/opt/conda/lib/python3.6/site-packages/pandas/core/generic.py:5434: SettingWithCopyWarning: \n",
      "A value is trying to be set on a copy of a slice from a DataFrame\n",
      "\n",
      "See the caveats in the documentation: http://pandas.pydata.org/pandas-docs/stable/indexing.html#indexing-view-versus-copy\n",
      "  self._update_inplace(new_data)\n",
      "/opt/conda/lib/python3.6/site-packages/ipykernel_launcher.py:21: SettingWithCopyWarning: \n",
      "A value is trying to be set on a copy of a slice from a DataFrame.\n",
      "Try using .loc[row_indexer,col_indexer] = value instead\n",
      "\n",
      "See the caveats in the documentation: http://pandas.pydata.org/pandas-docs/stable/indexing.html#indexing-view-versus-copy\n"
     ]
    },
    {
     "data": {
      "text/plain": [
       "(797426, 193)"
      ]
     },
     "execution_count": 46,
     "metadata": {},
     "output_type": "execute_result"
    }
   ],
   "source": [
    "azdias_clean = pd.read_csv(\"Udacity_AZDIAS_Subset.csv\", delimiter = \";\")\n",
    "clean_data(azdias_clean).shape"
   ]
  },
  {
   "cell_type": "markdown",
   "metadata": {},
   "source": [
    "## Step 2: Feature Transformation\n",
    "\n",
    "### Step 2.1: Apply Feature Scaling\n",
    "\n",
    "Before we apply dimensionality reduction techniques to the data, we need to perform feature scaling so that the principal component vectors are not influenced by the natural differences in scale for features. Starting from this part of the project, you'll want to keep an eye on the [API reference page for sklearn](http://scikit-learn.org/stable/modules/classes.html) to help you navigate to all of the classes and functions that you'll need. In this substep, you'll need to check the following:\n",
    "\n",
    "- sklearn requires that data not have missing values in order for its estimators to work properly. So, before applying the scaler to your data, make sure that you've cleaned the DataFrame of the remaining missing values. This can be as simple as just removing all data points with missing data, or applying an [Imputer](http://scikit-learn.org/stable/modules/generated/sklearn.preprocessing.Imputer.html) to replace all missing values. You might also try a more complicated procedure where you temporarily remove missing values in order to compute the scaling parameters before re-introducing those missing values and applying imputation. Think about how much missing data you have and what possible effects each approach might have on your analysis, and justify your decision in the discussion section below.\n",
    "- For the actual scaling function, a [StandardScaler](http://scikit-learn.org/stable/modules/generated/sklearn.preprocessing.StandardScaler.html) instance is suggested, scaling each feature to mean 0 and standard deviation 1.\n",
    "- For these classes, you can make use of the `.fit_transform()` method to both fit a procedure to the data as well as apply the transformation to the data at the same time. Don't forget to keep the fit sklearn objects handy, since you'll be applying them to the customer demographics data towards the end of the project."
   ]
  },
  {
   "cell_type": "code",
   "execution_count": 47,
   "metadata": {
    "scrolled": true
   },
   "outputs": [
    {
     "data": {
      "text/plain": [
       "0"
      ]
     },
     "execution_count": 47,
     "metadata": {},
     "output_type": "execute_result"
    }
   ],
   "source": [
    "# If you've not yet cleaned the dataset of all NaN values, then investigate and\n",
    "# do that now.\n",
    "azdias_1.isnull().any().sum()"
   ]
  },
  {
   "cell_type": "code",
   "execution_count": 48,
   "metadata": {},
   "outputs": [
    {
     "data": {
      "text/html": [
       "<div>\n",
       "<style scoped>\n",
       "    .dataframe tbody tr th:only-of-type {\n",
       "        vertical-align: middle;\n",
       "    }\n",
       "\n",
       "    .dataframe tbody tr th {\n",
       "        vertical-align: top;\n",
       "    }\n",
       "\n",
       "    .dataframe thead th {\n",
       "        text-align: right;\n",
       "    }\n",
       "</style>\n",
       "<table border=\"1\" class=\"dataframe\">\n",
       "  <thead>\n",
       "    <tr style=\"text-align: right;\">\n",
       "      <th></th>\n",
       "      <th>ALTERSKATEGORIE_GROB</th>\n",
       "      <th>ANREDE_KZ</th>\n",
       "      <th>FINANZ_MINIMALIST</th>\n",
       "      <th>FINANZ_SPARER</th>\n",
       "      <th>FINANZ_VORSORGER</th>\n",
       "      <th>FINANZ_ANLEGER</th>\n",
       "      <th>FINANZ_UNAUFFAELLIGER</th>\n",
       "      <th>FINANZ_HAUSBAUER</th>\n",
       "      <th>GREEN_AVANTGARDE</th>\n",
       "      <th>HEALTH_TYP</th>\n",
       "      <th>...</th>\n",
       "      <th>SHOPPER_TYP_2.0</th>\n",
       "      <th>SHOPPER_TYP_3.0</th>\n",
       "      <th>NATIONALITAET_KZ_1.0</th>\n",
       "      <th>NATIONALITAET_KZ_2.0</th>\n",
       "      <th>NATIONALITAET_KZ_3.0</th>\n",
       "      <th>PRAEGENDE_JUGENDJAHRE_AGE</th>\n",
       "      <th>CAMEO_INTL_2015_WEALTH</th>\n",
       "      <th>CAMEO_INTL_2015_LIFE_STAGE</th>\n",
       "      <th>PRAEGENDE_JUGENDJAHRE_MOVEMENT_Avantgarde</th>\n",
       "      <th>PRAEGENDE_JUGENDJAHRE_MOVEMENT_Mainstream</th>\n",
       "    </tr>\n",
       "  </thead>\n",
       "  <tbody>\n",
       "    <tr>\n",
       "      <th>0</th>\n",
       "      <td>-1.766334</td>\n",
       "      <td>0.958071</td>\n",
       "      <td>-1.494609</td>\n",
       "      <td>1.538200</td>\n",
       "      <td>-1.040726</td>\n",
       "      <td>1.466448</td>\n",
       "      <td>0.959677</td>\n",
       "      <td>1.338816</td>\n",
       "      <td>-0.530567</td>\n",
       "      <td>1.010368</td>\n",
       "      <td>...</td>\n",
       "      <td>-0.589974</td>\n",
       "      <td>1.847267</td>\n",
       "      <td>0.370343</td>\n",
       "      <td>-0.294469</td>\n",
       "      <td>-0.206291</td>\n",
       "      <td>1.052601</td>\n",
       "      <td>1.175734</td>\n",
       "      <td>-1.249157</td>\n",
       "      <td>-0.530567</td>\n",
       "      <td>0.530567</td>\n",
       "    </tr>\n",
       "    <tr>\n",
       "      <th>1</th>\n",
       "      <td>0.200589</td>\n",
       "      <td>0.958071</td>\n",
       "      <td>-1.494609</td>\n",
       "      <td>0.864824</td>\n",
       "      <td>-1.766955</td>\n",
       "      <td>-0.570799</td>\n",
       "      <td>0.244962</td>\n",
       "      <td>1.338816</td>\n",
       "      <td>1.884775</td>\n",
       "      <td>1.010368</td>\n",
       "      <td>...</td>\n",
       "      <td>1.694991</td>\n",
       "      <td>-0.541340</td>\n",
       "      <td>0.370343</td>\n",
       "      <td>-0.294469</td>\n",
       "      <td>-0.206291</td>\n",
       "      <td>1.052601</td>\n",
       "      <td>-0.869674</td>\n",
       "      <td>0.766845</td>\n",
       "      <td>1.884775</td>\n",
       "      <td>-1.884775</td>\n",
       "    </tr>\n",
       "    <tr>\n",
       "      <th>2</th>\n",
       "      <td>1.184051</td>\n",
       "      <td>0.958071</td>\n",
       "      <td>0.683150</td>\n",
       "      <td>-0.481928</td>\n",
       "      <td>1.137960</td>\n",
       "      <td>-0.570799</td>\n",
       "      <td>-1.184467</td>\n",
       "      <td>-0.792034</td>\n",
       "      <td>-0.530567</td>\n",
       "      <td>-0.311674</td>\n",
       "      <td>...</td>\n",
       "      <td>-0.589974</td>\n",
       "      <td>-0.541340</td>\n",
       "      <td>0.370343</td>\n",
       "      <td>-0.294469</td>\n",
       "      <td>-0.206291</td>\n",
       "      <td>-0.287734</td>\n",
       "      <td>-1.551476</td>\n",
       "      <td>-0.577156</td>\n",
       "      <td>-0.530567</td>\n",
       "      <td>0.530567</td>\n",
       "    </tr>\n",
       "    <tr>\n",
       "      <th>3</th>\n",
       "      <td>0.200589</td>\n",
       "      <td>-1.043765</td>\n",
       "      <td>0.683150</td>\n",
       "      <td>0.191448</td>\n",
       "      <td>0.411731</td>\n",
       "      <td>-1.249881</td>\n",
       "      <td>0.244962</td>\n",
       "      <td>-0.792034</td>\n",
       "      <td>-0.530567</td>\n",
       "      <td>1.010368</td>\n",
       "      <td>...</td>\n",
       "      <td>1.694991</td>\n",
       "      <td>-0.541340</td>\n",
       "      <td>0.370343</td>\n",
       "      <td>-0.294469</td>\n",
       "      <td>-0.206291</td>\n",
       "      <td>-0.287734</td>\n",
       "      <td>0.493932</td>\n",
       "      <td>0.094845</td>\n",
       "      <td>-0.530567</td>\n",
       "      <td>0.530567</td>\n",
       "    </tr>\n",
       "    <tr>\n",
       "      <th>4</th>\n",
       "      <td>-1.766334</td>\n",
       "      <td>0.958071</td>\n",
       "      <td>-0.042770</td>\n",
       "      <td>-1.155304</td>\n",
       "      <td>1.137960</td>\n",
       "      <td>-0.570799</td>\n",
       "      <td>-0.469752</td>\n",
       "      <td>1.338816</td>\n",
       "      <td>-0.530567</td>\n",
       "      <td>1.010368</td>\n",
       "      <td>...</td>\n",
       "      <td>-0.589974</td>\n",
       "      <td>-0.541340</td>\n",
       "      <td>0.370343</td>\n",
       "      <td>-0.294469</td>\n",
       "      <td>-0.206291</td>\n",
       "      <td>-1.628069</td>\n",
       "      <td>1.175734</td>\n",
       "      <td>0.766845</td>\n",
       "      <td>-0.530567</td>\n",
       "      <td>0.530567</td>\n",
       "    </tr>\n",
       "  </tbody>\n",
       "</table>\n",
       "<p>5 rows × 193 columns</p>\n",
       "</div>"
      ],
      "text/plain": [
       "   ALTERSKATEGORIE_GROB  ANREDE_KZ  FINANZ_MINIMALIST  FINANZ_SPARER  \\\n",
       "0             -1.766334   0.958071          -1.494609       1.538200   \n",
       "1              0.200589   0.958071          -1.494609       0.864824   \n",
       "2              1.184051   0.958071           0.683150      -0.481928   \n",
       "3              0.200589  -1.043765           0.683150       0.191448   \n",
       "4             -1.766334   0.958071          -0.042770      -1.155304   \n",
       "\n",
       "   FINANZ_VORSORGER  FINANZ_ANLEGER  FINANZ_UNAUFFAELLIGER  FINANZ_HAUSBAUER  \\\n",
       "0         -1.040726        1.466448               0.959677          1.338816   \n",
       "1         -1.766955       -0.570799               0.244962          1.338816   \n",
       "2          1.137960       -0.570799              -1.184467         -0.792034   \n",
       "3          0.411731       -1.249881               0.244962         -0.792034   \n",
       "4          1.137960       -0.570799              -0.469752          1.338816   \n",
       "\n",
       "   GREEN_AVANTGARDE  HEALTH_TYP                    ...                      \\\n",
       "0         -0.530567    1.010368                    ...                       \n",
       "1          1.884775    1.010368                    ...                       \n",
       "2         -0.530567   -0.311674                    ...                       \n",
       "3         -0.530567    1.010368                    ...                       \n",
       "4         -0.530567    1.010368                    ...                       \n",
       "\n",
       "   SHOPPER_TYP_2.0  SHOPPER_TYP_3.0  NATIONALITAET_KZ_1.0  \\\n",
       "0        -0.589974         1.847267              0.370343   \n",
       "1         1.694991        -0.541340              0.370343   \n",
       "2        -0.589974        -0.541340              0.370343   \n",
       "3         1.694991        -0.541340              0.370343   \n",
       "4        -0.589974        -0.541340              0.370343   \n",
       "\n",
       "   NATIONALITAET_KZ_2.0  NATIONALITAET_KZ_3.0  PRAEGENDE_JUGENDJAHRE_AGE  \\\n",
       "0             -0.294469             -0.206291                   1.052601   \n",
       "1             -0.294469             -0.206291                   1.052601   \n",
       "2             -0.294469             -0.206291                  -0.287734   \n",
       "3             -0.294469             -0.206291                  -0.287734   \n",
       "4             -0.294469             -0.206291                  -1.628069   \n",
       "\n",
       "   CAMEO_INTL_2015_WEALTH  CAMEO_INTL_2015_LIFE_STAGE  \\\n",
       "0                1.175734                   -1.249157   \n",
       "1               -0.869674                    0.766845   \n",
       "2               -1.551476                   -0.577156   \n",
       "3                0.493932                    0.094845   \n",
       "4                1.175734                    0.766845   \n",
       "\n",
       "   PRAEGENDE_JUGENDJAHRE_MOVEMENT_Avantgarde  \\\n",
       "0                                  -0.530567   \n",
       "1                                   1.884775   \n",
       "2                                  -0.530567   \n",
       "3                                  -0.530567   \n",
       "4                                  -0.530567   \n",
       "\n",
       "   PRAEGENDE_JUGENDJAHRE_MOVEMENT_Mainstream  \n",
       "0                                   0.530567  \n",
       "1                                  -1.884775  \n",
       "2                                   0.530567  \n",
       "3                                   0.530567  \n",
       "4                                   0.530567  \n",
       "\n",
       "[5 rows x 193 columns]"
      ]
     },
     "execution_count": 48,
     "metadata": {},
     "output_type": "execute_result"
    }
   ],
   "source": [
    "# Apply feature scaling to the general population demographics data.\n",
    "from sklearn.preprocessing import StandardScaler\n",
    "scaler = StandardScaler()\n",
    "scaler.fit(azdias_1)\n",
    "azdias_scaled_df = pd.DataFrame(scaler.transform(azdias_1), columns=list(azdias_1))\n",
    "azdias_scaled_df.head()"
   ]
  },
  {
   "cell_type": "markdown",
   "metadata": {},
   "source": [
    "### Discussion 2.1: Apply Feature Scaling\n",
    "\n",
    "(Double-click this cell and replace this text with your own text, reporting your decisions regarding feature scaling.)\n",
    "#### Answer:\n",
    "I use StandardScaler method to scale each feature to mean 0 and standard deviation 1."
   ]
  },
  {
   "cell_type": "markdown",
   "metadata": {},
   "source": [
    "### Step 2.2: Perform Dimensionality Reduction\n",
    "\n",
    "On your scaled data, you are now ready to apply dimensionality reduction techniques.\n",
    "\n",
    "- Use sklearn's [PCA](http://scikit-learn.org/stable/modules/generated/sklearn.decomposition.PCA.html) class to apply principal component analysis on the data, thus finding the vectors of maximal variance in the data. To start, you should not set any parameters (so all components are computed) or set a number of components that is at least half the number of features (so there's enough features to see the general trend in variability).\n",
    "- Check out the ratio of variance explained by each principal component as well as the cumulative variance explained. Try plotting the cumulative or sequential values using matplotlib's [`plot()`](https://matplotlib.org/api/_as_gen/matplotlib.pyplot.plot.html) function. Based on what you find, select a value for the number of transformed features you'll retain for the clustering part of the project.\n",
    "- Once you've made a choice for the number of components to keep, make sure you re-fit a PCA instance to perform the decided-on transformation."
   ]
  },
  {
   "cell_type": "code",
   "execution_count": 49,
   "metadata": {},
   "outputs": [],
   "source": [
    "# Apply PCA to the data.\n",
    "from sklearn.decomposition import PCA\n",
    "pca = PCA()\n",
    "pca.fit(azdias_scaled_df)\n",
    "azidas_pca = pca.transform(azdias_scaled_df)"
   ]
  },
  {
   "cell_type": "code",
   "execution_count": 50,
   "metadata": {},
   "outputs": [
    {
     "data": {
      "image/png": "[encoded data removed]",
      "text/plain": [
       "<matplotlib.figure.Figure at 0x7f17dc940438>"
      ]
     },
     "metadata": {
      "needs_background": "light"
     },
     "output_type": "display_data"
    }
   ],
   "source": [
    "# Investigate the variance accounted for by each principal component.\n",
    "\n",
    "expla_vari = pca.explained_variance_ratio_\n",
    "feat_num = azdias_scaled_df.shape[1]\n",
    "\n",
    "plt.figure(1,figsize=(10, 6))\n",
    "plt.bar(list(range(1, feat_num+1)),expla_vari)\n",
    "plt.ylabel('Variance Explained')\n",
    "plt.twinx()\n",
    "plt.plot(list(range(1, feat_num+1)),np.cumsum(expla_vari))\n",
    "plt.ylabel('Cumulative Variance Explained')\n",
    "plt.title('Variance Explained by Principal Components')\n",
    "plt.grid(True)"
   ]
  },
  {
   "cell_type": "code",
   "execution_count": 51,
   "metadata": {},
   "outputs": [
    {
     "data": {
      "text/plain": [
       "0.87655095033469743"
      ]
     },
     "execution_count": 51,
     "metadata": {},
     "output_type": "execute_result"
    }
   ],
   "source": [
    "np.cumsum(expla_vari)[99]"
   ]
  },
  {
   "cell_type": "code",
   "execution_count": 52,
   "metadata": {},
   "outputs": [],
   "source": [
    "# Re-apply PCA to the data while selecting for number of components to retain.\n",
    "pca_100 = PCA(100)\n",
    "pca_100.fit(azdias_scaled_df)\n",
    "azidas_pca = pca_100.transform(azdias_scaled_df)"
   ]
  },
  {
   "cell_type": "code",
   "execution_count": 53,
   "metadata": {},
   "outputs": [
    {
     "data": {
      "text/plain": [
       "(797426, 100)"
      ]
     },
     "execution_count": 53,
     "metadata": {},
     "output_type": "execute_result"
    }
   ],
   "source": [
    "azidas_pca.shape"
   ]
  },
  {
   "cell_type": "markdown",
   "metadata": {},
   "source": [
    "### Discussion 2.2: Perform Dimensionality Reduction\n",
    "\n",
    "(Double-click this cell and replace this text with your own text, reporting your findings and decisions regarding dimensionality reduction. How many principal components / transformed features are you retaining for the next step of the analysis?)\n",
    "\n",
    "#### Answer:\n",
    "There are More than 86% variance which was contributed by the first 100 principal components. The variance affected by the remaining principal components decrease sharply. This could be considered as a good turning point where the other principal components do not change much to the explained variance. Based on such justifications, I chose to keep the first 100 principal components."
   ]
  },
  {
   "cell_type": "markdown",
   "metadata": {},
   "source": [
    "### Step 2.3: Interpret Principal Components\n",
    "\n",
    "Now that we have our transformed principal components, it's a nice idea to check out the weight of each variable on the first few components to see if they can be interpreted in some fashion.\n",
    "\n",
    "As a reminder, each principal component is a unit vector that points in the direction of highest variance (after accounting for the variance captured by earlier principal components). The further a weight is from zero, the more the principal component is in the direction of the corresponding feature. If two features have large weights of the same sign (both positive or both negative), then increases in one tend expect to be associated with increases in the other. To contrast, features with different signs can be expected to show a negative correlation: increases in one variable should result in a decrease in the other.\n",
    "\n",
    "- To investigate the features, you should map each weight to their corresponding feature name, then sort the features according to weight. The most interesting features for each principal component, then, will be those at the beginning and end of the sorted list. Use the data dictionary document to help you understand these most prominent features, their relationships, and what a positive or negative value on the principal component might indicate.\n",
    "- You should investigate and interpret feature associations from the first three principal components in this substep. To help facilitate this, you should write a function that you can call at any time to print the sorted list of feature weights, for the *i*-th principal component. This might come in handy in the next step of the project, when you interpret the tendencies of the discovered clusters."
   ]
  },
  {
   "cell_type": "code",
   "execution_count": 54,
   "metadata": {},
   "outputs": [],
   "source": [
    "# Map weights for the first principal component to corresponding feature names\n",
    "# and then print the linked values, sorted by weight.\n",
    "# HINT: Try defining a function here or in a new cell that you can reuse in the\n",
    "# other cells.\n",
    "def get_feature_assiciations(df, pca, dim):\n",
    "    df_c = pd.DataFrame(pca.components_, columns=df.columns)\n",
    "    weight = pd.Series(df_c.iloc[dim - 1], index=df_c.columns)\n",
    "    weight = weight.sort_values(ascending=False)\n",
    "    return weight"
   ]
  },
  {
   "cell_type": "code",
   "execution_count": 55,
   "metadata": {},
   "outputs": [
    {
     "name": "stdout",
     "output_type": "stream",
     "text": [
      "LP_STATUS_GROB_1.0        0.196452\n",
      "HH_EINKOMMEN_SCORE        0.188484\n",
      "CAMEO_INTL_2015_WEALTH    0.184850\n",
      "PLZ8_ANTG3                0.178657\n",
      "PLZ8_ANTG4                0.172546\n",
      "Name: 0, dtype: float64\n",
      "KBA05_GBZ           -0.180259\n",
      "KBA05_ANTG1         -0.180611\n",
      "PLZ8_ANTG1          -0.180628\n",
      "MOBI_REGIO          -0.187492\n",
      "FINANZ_MINIMALIST   -0.193487\n",
      "Name: 0, dtype: float64\n"
     ]
    }
   ],
   "source": [
    "# Map weights for the second principal component to corresponding feature names\n",
    "# and then print the linked values, sorted by weight.\n",
    "print(get_feature_assiciations(azdias_scaled_df, pca_100, 1).head())\n",
    "print(get_feature_assiciations(azdias_scaled_df, pca_100, 1).tail())"
   ]
  },
  {
   "cell_type": "code",
   "execution_count": 56,
   "metadata": {},
   "outputs": [
    {
     "name": "stdout",
     "output_type": "stream",
     "text": [
      "ALTERSKATEGORIE_GROB    0.232115\n",
      "FINANZ_VORSORGER        0.218023\n",
      "ZABEOTYP_3              0.201052\n",
      "SEMIO_ERL               0.180669\n",
      "SEMIO_LUST              0.162891\n",
      "Name: 1, dtype: float64\n",
      "SEMIO_TRADV                 -0.207702\n",
      "SEMIO_REL                   -0.214002\n",
      "FINANZ_UNAUFFAELLIGER       -0.214434\n",
      "FINANZ_SPARER               -0.225186\n",
      "PRAEGENDE_JUGENDJAHRE_AGE   -0.227889\n",
      "Name: 1, dtype: float64\n"
     ]
    }
   ],
   "source": [
    "print(get_feature_assiciations(azdias_scaled_df, pca_100, 2).head())\n",
    "print(get_feature_assiciations(azdias_scaled_df, pca_100, 2).tail())"
   ]
  },
  {
   "cell_type": "code",
   "execution_count": 57,
   "metadata": {},
   "outputs": [
    {
     "name": "stdout",
     "output_type": "stream",
     "text": [
      "SEMIO_VERT     0.306926\n",
      "SEMIO_FAM      0.251681\n",
      "SEMIO_SOZ      0.250986\n",
      "SEMIO_KULT     0.241499\n",
      "FINANZTYP_5    0.142293\n",
      "Name: 2, dtype: float64\n",
      "SEMIO_ERL    -0.203275\n",
      "SEMIO_KRIT   -0.258783\n",
      "SEMIO_DOM    -0.266916\n",
      "SEMIO_KAEM   -0.298782\n",
      "ANREDE_KZ    -0.331061\n",
      "Name: 2, dtype: float64\n"
     ]
    }
   ],
   "source": [
    "# Map weights for the third principal component to corresponding feature names\n",
    "# and then print the linked values, sorted by weight.\n",
    "print(get_feature_assiciations(azdias_scaled_df, pca_100, 3).head())\n",
    "print(get_feature_assiciations(azdias_scaled_df, pca_100, 3).tail())"
   ]
  },
  {
   "cell_type": "markdown",
   "metadata": {},
   "source": [
    "### Discussion 2.3: Interpret Principal Components\n",
    "\n",
    "(Double-click this cell and replace this text with your own text, reporting your observations from detailed investigation of the first few principal components generated. Can we interpret positive and negative values from them in a meaningful way?)\n",
    "#### Answer:\n",
    "1)First principal component means about household income and house types in PLZ8 region.\n",
    "\n",
    "2)Second principal component means about financial type.\n",
    "\n",
    "3)Third principal component means about personality differences between male and female."
   ]
  },
  {
   "cell_type": "markdown",
   "metadata": {},
   "source": [
    "## Step 3: Clustering\n",
    "\n",
    "### Step 3.1: Apply Clustering to General Population\n",
    "\n",
    "You've assessed and cleaned the demographics data, then scaled and transformed them. Now, it's time to see how the data clusters in the principal components space. In this substep, you will apply k-means clustering to the dataset and use the average within-cluster distances from each point to their assigned cluster's centroid to decide on a number of clusters to keep.\n",
    "\n",
    "- Use sklearn's [KMeans](http://scikit-learn.org/stable/modules/generated/sklearn.cluster.KMeans.html#sklearn.cluster.KMeans) class to perform k-means clustering on the PCA-transformed data.\n",
    "- Then, compute the average difference from each point to its assigned cluster's center. **Hint**: The KMeans object's `.score()` method might be useful here, but note that in sklearn, scores tend to be defined so that larger is better. Try applying it to a small, toy dataset, or use an internet search to help your understanding.\n",
    "- Perform the above two steps for a number of different cluster counts. You can then see how the average distance decreases with an increasing number of clusters. However, each additional cluster provides a smaller net benefit. Use this fact to select a final number of clusters in which to group the data. **Warning**: because of the large size of the dataset, it can take a long time for the algorithm to resolve. The more clusters to fit, the longer the algorithm will take. You should test for cluster counts through at least 10 clusters to get the full picture, but you shouldn't need to test for a number of clusters above about 30.\n",
    "- Once you've selected a final number of clusters to use, re-fit a KMeans instance to perform the clustering operation. Make sure that you also obtain the cluster assignments for the general demographics data, since you'll be using them in the final Step 3.3."
   ]
  },
  {
   "cell_type": "code",
   "execution_count": 58,
   "metadata": {},
   "outputs": [],
   "source": [
    "# Over a number of different cluster counts...\n",
    "\n",
    "from sklearn.cluster import KMeans\n",
    "\n",
    "cluster_num = list(range(1,15))\n",
    "\n",
    "# run k-means clustering on the data and...\n",
    "kmeans = [KMeans(n_clusters = i,random_state=999) for i in cluster_num]    \n",
    "    \n",
    "# compute the average within-cluster distances.\n",
    "score = [kmeans[i].fit(azidas_pca).score(azidas_pca) for i in range(len(kmeans))]    \n",
    "    "
   ]
  },
  {
   "cell_type": "code",
   "execution_count": 59,
   "metadata": {},
   "outputs": [
    {
     "data": {
      "image/png": "[encoded data removed]",
      "text/plain": [
       "<matplotlib.figure.Figure at 0x7f17d97d9d30>"
      ]
     },
     "metadata": {
      "needs_background": "light"
     },
     "output_type": "display_data"
    }
   ],
   "source": [
    "# Investigate the change in within-cluster distance across number of clusters.\n",
    "# HINT: Use matplotlib's plot function to visualize this relationship.\n",
    "plt.figure(figsize=(10, 5))\n",
    "plt.plot(cluster_num, np.abs(score), linestyle='--', marker='o', color='b')\n",
    "plt.grid(True)\n",
    "plt.xlabel('Number of Clusters')\n",
    "plt.ylabel('SSE')\n",
    "plt.title('SSE vs. K')\n",
    "plt.show()"
   ]
  },
  {
   "cell_type": "code",
   "execution_count": 60,
   "metadata": {
    "scrolled": true
   },
   "outputs": [
    {
     "data": {
      "image/png": "[encoded data removed]",
      "text/plain": [
       "<matplotlib.figure.Figure at 0x7f17d970ab38>"
      ]
     },
     "metadata": {
      "needs_background": "light"
     },
     "output_type": "display_data"
    }
   ],
   "source": [
    "# Investigate the Derivative score of the number of clusters.\n",
    "plt.figure(figsize=(10, 5))\n",
    "plt.plot(cluster_num, np.gradient(np.abs(score)))\n",
    "plt.grid(True)\n",
    "plt.xlabel('Number of Clusters')\n",
    "plt.ylabel('First Derivative of SSE')\n",
    "plt.title('SSE Slope vs. Number of Clusters')\n",
    "plt.show()"
   ]
  },
  {
   "cell_type": "markdown",
   "metadata": {},
   "source": [
    "Seen from the above curve,the score derivative changed little after 10 Clusters.So I choose 10 Clusters to segment the general population."
   ]
  },
  {
   "cell_type": "code",
   "execution_count": 61,
   "metadata": {},
   "outputs": [],
   "source": [
    "# Re-fit the k-means model with the selected number of clusters and obtain\n",
    "# cluster predictions for the general population demographics data.\n",
    "clusters= 10\n",
    "preds = kmeans[clusters - 1].predict(azidas_pca)\n",
    "centroids = kmeans[clusters - 1].cluster_centers_"
   ]
  },
  {
   "cell_type": "markdown",
   "metadata": {},
   "source": [
    "### Discussion 3.1: Apply Clustering to General Population\n",
    "\n",
    "(Double-click this cell and replace this text with your own text, reporting your findings and decisions regarding clustering. Into how many clusters have you decided to segment the population?)\n",
    "#### Answer:\n",
    "Looking at the above SSE vs. Number of Clusters plot, it shows that the descent of a curve seems to slow down after 10 clusters.So I used 10 clusters to segment the general population."
   ]
  },
  {
   "cell_type": "markdown",
   "metadata": {},
   "source": [
    "### Step 3.2: Apply All Steps to the Customer Data\n",
    "\n",
    "Now that you have clusters and cluster centers for the general population, it's time to see how the customer data maps on to those clusters. Take care to not confuse this for re-fitting all of the models to the customer data. Instead, you're going to use the fits from the general population to clean, transform, and cluster the customer data. In the last step of the project, you will interpret how the general population fits apply to the customer data.\n",
    "\n",
    "- Don't forget when loading in the customers data, that it is semicolon (`;`) delimited.\n",
    "- Apply the same feature wrangling, selection, and engineering steps to the customer demographics using the `clean_data()` function you created earlier. (You can assume that the customer demographics data has similar meaning behind missing data patterns as the general demographics data.)\n",
    "- Use the sklearn objects from the general demographics data, and apply their transformations to the customers data. That is, you should not be using a `.fit()` or `.fit_transform()` method to re-fit the old objects, nor should you be creating new sklearn objects! Carry the data through the feature scaling, PCA, and clustering steps, obtaining cluster assignments for all of the data in the customer demographics data."
   ]
  },
  {
   "cell_type": "code",
   "execution_count": 63,
   "metadata": {},
   "outputs": [
    {
     "data": {
      "text/plain": [
       "(191652, 85)"
      ]
     },
     "execution_count": 63,
     "metadata": {},
     "output_type": "execute_result"
    }
   ],
   "source": [
    "# Load in the customer demographics data.\n",
    "customers = pd.read_csv(\"Udacity_CUSTOMERS_Subset.csv\", delimiter = \";\")\n",
    "customers.shape"
   ]
  },
  {
   "cell_type": "code",
   "execution_count": 64,
   "metadata": {},
   "outputs": [
    {
     "name": "stderr",
     "output_type": "stream",
     "text": [
      "/opt/conda/lib/python3.6/site-packages/pandas/core/generic.py:5434: SettingWithCopyWarning: \n",
      "A value is trying to be set on a copy of a slice from a DataFrame\n",
      "\n",
      "See the caveats in the documentation: http://pandas.pydata.org/pandas-docs/stable/indexing.html#indexing-view-versus-copy\n",
      "  self._update_inplace(new_data)\n",
      "/opt/conda/lib/python3.6/site-packages/ipykernel_launcher.py:21: SettingWithCopyWarning: \n",
      "A value is trying to be set on a copy of a slice from a DataFrame.\n",
      "Try using .loc[row_indexer,col_indexer] = value instead\n",
      "\n",
      "See the caveats in the documentation: http://pandas.pydata.org/pandas-docs/stable/indexing.html#indexing-view-versus-copy\n"
     ]
    },
    {
     "data": {
      "text/plain": [
       "(141640, 192)"
      ]
     },
     "execution_count": 64,
     "metadata": {},
     "output_type": "execute_result"
    }
   ],
   "source": [
    "# Apply preprocessing, feature transformation, and clustering from the general\n",
    "# demographics onto the customer data, obtaining cluster predictions for the\n",
    "# customer demographics data.\n",
    "customers_1 = clean_data(customers)\n",
    "customers_1.shape"
   ]
  },
  {
   "cell_type": "code",
   "execution_count": 65,
   "metadata": {},
   "outputs": [
    {
     "data": {
      "text/plain": [
       "{'GEBAEUDETYP_5.0'}"
      ]
     },
     "execution_count": 65,
     "metadata": {},
     "output_type": "execute_result"
    }
   ],
   "source": [
    "set(azdias_1.columns) - set(customers_1.columns)"
   ]
  },
  {
   "cell_type": "code",
   "execution_count": 66,
   "metadata": {},
   "outputs": [
    {
     "data": {
      "text/plain": [
       "0    797425\n",
       "1         1\n",
       "Name: GEBAEUDETYP_5.0, dtype: int64"
      ]
     },
     "execution_count": 66,
     "metadata": {},
     "output_type": "execute_result"
    }
   ],
   "source": [
    "azdias_1['GEBAEUDETYP_5.0'].value_counts()"
   ]
  },
  {
   "cell_type": "code",
   "execution_count": 67,
   "metadata": {},
   "outputs": [],
   "source": [
    "customers_1['GEBAEUDETYP_5.0'] = 0"
   ]
  },
  {
   "cell_type": "code",
   "execution_count": 68,
   "metadata": {},
   "outputs": [
    {
     "data": {
      "text/plain": [
       "0    141640\n",
       "Name: GEBAEUDETYP_5.0, dtype: int64"
      ]
     },
     "execution_count": 68,
     "metadata": {},
     "output_type": "execute_result"
    }
   ],
   "source": [
    "customers_1['GEBAEUDETYP_5.0'].value_counts()"
   ]
  },
  {
   "cell_type": "code",
   "execution_count": 69,
   "metadata": {},
   "outputs": [
    {
     "data": {
      "text/plain": [
       "(141640, 193)"
      ]
     },
     "execution_count": 69,
     "metadata": {},
     "output_type": "execute_result"
    }
   ],
   "source": [
    "customers_1.shape"
   ]
  },
  {
   "cell_type": "code",
   "execution_count": 70,
   "metadata": {},
   "outputs": [
    {
     "name": "stdout",
     "output_type": "stream",
     "text": [
      "<class 'pandas.core.frame.DataFrame'>\n",
      "Int64Index: 141640 entries, 0 to 191651\n",
      "Columns: 193 entries, ALTERSKATEGORIE_GROB to GEBAEUDETYP_5.0\n",
      "dtypes: float64(38), int64(26), uint8(129)\n",
      "memory usage: 87.7 MB\n"
     ]
    }
   ],
   "source": [
    "customers_1.info()"
   ]
  },
  {
   "cell_type": "code",
   "execution_count": 75,
   "metadata": {},
   "outputs": [],
   "source": [
    "customers_scaled_df = pd.DataFrame(scaler.fit_transform(customers_1),columns=list(customers_1))\n",
    "customers_pca = pca_100.transform(customers_scaled_df)\n",
    "preds_customers = kmeans[clusters - 1].predict(customers_pca)"
   ]
  },
  {
   "cell_type": "markdown",
   "metadata": {},
   "source": [
    "### Step 3.3: Compare Customer Data to Demographics Data\n",
    "\n",
    "At this point, you have clustered data based on demographics of the general population of Germany, and seen how the customer data for a mail-order sales company maps onto those demographic clusters. In this final substep, you will compare the two cluster distributions to see where the strongest customer base for the company is.\n",
    "\n",
    "Consider the proportion of persons in each cluster for the general population, and the proportions for the customers. If we think the company's customer base to be universal, then the cluster assignment proportions should be fairly similar between the two. If there are only particular segments of the population that are interested in the company's products, then we should see a mismatch from one to the other. If there is a higher proportion of persons in a cluster for the customer data compared to the general population (e.g. 5% of persons are assigned to a cluster for the general population, but 15% of the customer data is closest to that cluster's centroid) then that suggests the people in that cluster to be a target audience for the company. On the other hand, the proportion of the data in a cluster being larger in the general population than the customer data (e.g. only 2% of customers closest to a population centroid that captures 6% of the data) suggests that group of persons to be outside of the target demographics.\n",
    "\n",
    "Take a look at the following points in this step:\n",
    "\n",
    "- Compute the proportion of data points in each cluster for the general population and the customer data. Visualizations will be useful here: both for the individual dataset proportions, but also to visualize the ratios in cluster representation between groups. Seaborn's [`countplot()`](https://seaborn.pydata.org/generated/seaborn.countplot.html) or [`barplot()`](https://seaborn.pydata.org/generated/seaborn.barplot.html) function could be handy.\n",
    "  - Recall the analysis you performed in step 1.1.3 of the project, where you separated out certain data points from the dataset if they had more than a specified threshold of missing values. If you found that this group was qualitatively different from the main bulk of the data, you should treat this as an additional data cluster in this analysis. Make sure that you account for the number of data points in this subset, for both the general population and customer datasets, when making your computations!\n",
    "- Which cluster or clusters are overrepresented in the customer dataset compared to the general population? Select at least one such cluster and infer what kind of people might be represented by that cluster. Use the principal component interpretations from step 2.3 or look at additional components to help you make this inference. Alternatively, you can use the `.inverse_transform()` method of the PCA and StandardScaler objects to transform centroids back to the original data space and interpret the retrieved values directly.\n",
    "- Perform a similar investigation for the underrepresented clusters. Which cluster or clusters are underrepresented in the customer dataset compared to the general population, and what kinds of people are typified by these clusters?"
   ]
  },
  {
   "cell_type": "code",
   "execution_count": 78,
   "metadata": {},
   "outputs": [
    {
     "data": {
      "text/plain": [
       "<Container object of 10 artists>"
      ]
     },
     "execution_count": 78,
     "metadata": {},
     "output_type": "execute_result"
    },
    {
     "data": {
      "image/png": "[encoded data removed]",
      "text/plain": [
       "<matplotlib.figure.Figure at 0x7f17d80d7b70>"
      ]
     },
     "metadata": {
      "needs_background": "light"
     },
     "output_type": "display_data"
    }
   ],
   "source": [
    "# Compare the proportion of data in each cluster for the customer data to the\n",
    "# proportion of data in each cluster for the general population.\n",
    "\n",
    "preds_rate = pd.Series(preds).value_counts().sort_index()/len(preds)\n",
    "preds_customers_rate = pd.Series(preds_customers).value_counts().sort_index()/len(preds_customers)\n",
    "\n",
    "fig = plt.figure(figsize=(13,6))\n",
    "ax = fig.add_subplot(111)\n",
    "ax.bar(pd.Series(range(clusters)), preds_rate, width=0.2, color='m')\n",
    "ax.bar(pd.Series(range(clusters))+ 0.3, preds_customers_rate, width=0.2, color='c')\n",
    "#ax.set_xlabel('The number of Clusters')\n",
    "#ax.set_ylabel('Ratio')\n",
    "#ax.set_title('Ratio by Clusters between Population and Customers')\n",
    "#ax.legend(('Population', 'Customers'))\n",
    "#plt.show()"
   ]
  },
  {
   "cell_type": "code",
   "execution_count": 80,
   "metadata": {},
   "outputs": [
    {
     "data": {
      "image/png": "[encoded data removed]",
      "text/plain": [
       "<matplotlib.figure.Figure at 0x7f17d9844ef0>"
      ]
     },
     "metadata": {
      "needs_background": "light"
     },
     "output_type": "display_data"
    }
   ],
   "source": [
    "p_count = pd.Series(azdias_2.shape[0],index=['-1']).append(pd.Series(preds).value_counts().sort_index())\n",
    "preds_rate_all = p_count/sum(p_count)\n",
    "p_c_count = pd.Series(customers.shape[0]-customers_1.shape[0],index=['-1']).append(pd.Series(preds_customers).value_counts().sort_index())\n",
    "preds_customers_rate_all = p_c_count/sum(p_c_count)\n",
    "\n",
    "fig = plt.figure(figsize=(13,6))\n",
    "ax = fig.add_subplot(111)\n",
    "ax.bar(pd.Series(range(-1,clusters)), preds_rate_all, width=0.2, color='m')\n",
    "ax.bar(pd.Series(range(-1,clusters))+0.35, preds_customers_rate_all, width=0.2, color='c')\n",
    "ax.set_xlabel('The number of Clusters')\n",
    "ax.set_ylabel('Ratio')\n",
    "ax.set_title('Ratio by Clusters between Population and Customers')\n",
    "ax.legend(('Population', 'Customers'))\n",
    "plt.show()"
   ]
  },
  {
   "cell_type": "code",
   "execution_count": 83,
   "metadata": {},
   "outputs": [
    {
     "name": "stdout",
     "output_type": "stream",
     "text": [
      "Overrepresented general population cluster 5 ratio is 0.149\n",
      "Overrepresented customer cluster 5 ratio is 0.236\n"
     ]
    }
   ],
   "source": [
    "# What kinds of people are part of a cluster that is overrepresented in the\n",
    "# customer data compared to the general population?\n",
    "print('Overrepresented general population cluster {} ratio is {}'.format(5,round(preds_rate[5],3)))\n",
    "print('Overrepresented customer cluster {} ratio is {}'.format(5,round(preds_customers_rate[5],3)))"
   ]
  },
  {
   "cell_type": "code",
   "execution_count": 82,
   "metadata": {},
   "outputs": [
    {
     "data": {
      "text/html": [
       "<div>\n",
       "<style scoped>\n",
       "    .dataframe tbody tr th:only-of-type {\n",
       "        vertical-align: middle;\n",
       "    }\n",
       "\n",
       "    .dataframe tbody tr th {\n",
       "        vertical-align: top;\n",
       "    }\n",
       "\n",
       "    .dataframe thead th {\n",
       "        text-align: right;\n",
       "    }\n",
       "</style>\n",
       "<table border=\"1\" class=\"dataframe\">\n",
       "  <thead>\n",
       "    <tr style=\"text-align: right;\">\n",
       "      <th></th>\n",
       "      <th>ALTERSKATEGORIE_GROB</th>\n",
       "      <th>ANREDE_KZ</th>\n",
       "      <th>FINANZ_MINIMALIST</th>\n",
       "      <th>FINANZ_SPARER</th>\n",
       "      <th>FINANZ_VORSORGER</th>\n",
       "      <th>FINANZ_ANLEGER</th>\n",
       "      <th>FINANZ_UNAUFFAELLIGER</th>\n",
       "      <th>FINANZ_HAUSBAUER</th>\n",
       "      <th>GREEN_AVANTGARDE</th>\n",
       "      <th>HEALTH_TYP</th>\n",
       "      <th>...</th>\n",
       "      <th>SHOPPER_TYP_2.0</th>\n",
       "      <th>SHOPPER_TYP_3.0</th>\n",
       "      <th>NATIONALITAET_KZ_1.0</th>\n",
       "      <th>NATIONALITAET_KZ_2.0</th>\n",
       "      <th>NATIONALITAET_KZ_3.0</th>\n",
       "      <th>PRAEGENDE_JUGENDJAHRE_AGE</th>\n",
       "      <th>CAMEO_INTL_2015_WEALTH</th>\n",
       "      <th>CAMEO_INTL_2015_LIFE_STAGE</th>\n",
       "      <th>PRAEGENDE_JUGENDJAHRE_MOVEMENT_Avantgarde</th>\n",
       "      <th>PRAEGENDE_JUGENDJAHRE_MOVEMENT_Mainstream</th>\n",
       "    </tr>\n",
       "  </thead>\n",
       "  <tbody>\n",
       "    <tr>\n",
       "      <th>Cluster 0</th>\n",
       "      <td>3.941664</td>\n",
       "      <td>1.547398</td>\n",
       "      <td>4.004102</td>\n",
       "      <td>0.698216</td>\n",
       "      <td>5.216670</td>\n",
       "      <td>0.713186</td>\n",
       "      <td>1.102475</td>\n",
       "      <td>4.043918</td>\n",
       "      <td>0.313063</td>\n",
       "      <td>1.547945</td>\n",
       "      <td>...</td>\n",
       "      <td>0.192376</td>\n",
       "      <td>1.041321</td>\n",
       "      <td>0.045738</td>\n",
       "      <td>-0.008105</td>\n",
       "      <td>57.186413</td>\n",
       "      <td>1.365454</td>\n",
       "      <td>4.865421</td>\n",
       "      <td>1.027376</td>\n",
       "      <td>0.310508</td>\n",
       "      <td>0.367387</td>\n",
       "    </tr>\n",
       "    <tr>\n",
       "      <th>Cluster 1</th>\n",
       "      <td>4.021154</td>\n",
       "      <td>1.748091</td>\n",
       "      <td>3.841165</td>\n",
       "      <td>0.983928</td>\n",
       "      <td>5.080799</td>\n",
       "      <td>1.140244</td>\n",
       "      <td>1.209685</td>\n",
       "      <td>3.714889</td>\n",
       "      <td>0.281080</td>\n",
       "      <td>1.803770</td>\n",
       "      <td>...</td>\n",
       "      <td>0.404743</td>\n",
       "      <td>1.048665</td>\n",
       "      <td>0.042758</td>\n",
       "      <td>-0.006746</td>\n",
       "      <td>57.452954</td>\n",
       "      <td>1.700725</td>\n",
       "      <td>4.306485</td>\n",
       "      <td>0.397587</td>\n",
       "      <td>0.278527</td>\n",
       "      <td>0.431354</td>\n",
       "    </tr>\n",
       "    <tr>\n",
       "      <th>Cluster 2</th>\n",
       "      <td>3.803595</td>\n",
       "      <td>0.881903</td>\n",
       "      <td>4.381228</td>\n",
       "      <td>1.015915</td>\n",
       "      <td>5.057448</td>\n",
       "      <td>0.733984</td>\n",
       "      <td>1.216819</td>\n",
       "      <td>3.159774</td>\n",
       "      <td>0.330156</td>\n",
       "      <td>2.104059</td>\n",
       "      <td>...</td>\n",
       "      <td>0.460766</td>\n",
       "      <td>0.936995</td>\n",
       "      <td>0.008498</td>\n",
       "      <td>0.026185</td>\n",
       "      <td>57.267888</td>\n",
       "      <td>1.840918</td>\n",
       "      <td>4.292948</td>\n",
       "      <td>0.319597</td>\n",
       "      <td>0.327601</td>\n",
       "      <td>0.333200</td>\n",
       "    </tr>\n",
       "    <tr>\n",
       "      <th>Cluster 3</th>\n",
       "      <td>3.751149</td>\n",
       "      <td>1.289934</td>\n",
       "      <td>5.321306</td>\n",
       "      <td>0.962242</td>\n",
       "      <td>4.873146</td>\n",
       "      <td>1.032920</td>\n",
       "      <td>1.669623</td>\n",
       "      <td>1.648376</td>\n",
       "      <td>1.446368</td>\n",
       "      <td>1.847699</td>\n",
       "      <td>...</td>\n",
       "      <td>0.293618</td>\n",
       "      <td>1.009593</td>\n",
       "      <td>0.045985</td>\n",
       "      <td>-0.008197</td>\n",
       "      <td>57.160516</td>\n",
       "      <td>2.059048</td>\n",
       "      <td>2.242336</td>\n",
       "      <td>0.745454</td>\n",
       "      <td>1.443761</td>\n",
       "      <td>-1.899272</td>\n",
       "    </tr>\n",
       "    <tr>\n",
       "      <th>Cluster 4</th>\n",
       "      <td>2.839669</td>\n",
       "      <td>0.805318</td>\n",
       "      <td>3.417433</td>\n",
       "      <td>2.395700</td>\n",
       "      <td>3.663853</td>\n",
       "      <td>2.146873</td>\n",
       "      <td>2.726352</td>\n",
       "      <td>3.155708</td>\n",
       "      <td>0.375274</td>\n",
       "      <td>2.096256</td>\n",
       "      <td>...</td>\n",
       "      <td>0.178161</td>\n",
       "      <td>0.926601</td>\n",
       "      <td>-0.046712</td>\n",
       "      <td>0.060566</td>\n",
       "      <td>60.478770</td>\n",
       "      <td>3.930573</td>\n",
       "      <td>4.258590</td>\n",
       "      <td>0.247365</td>\n",
       "      <td>0.372717</td>\n",
       "      <td>0.242962</td>\n",
       "    </tr>\n",
       "    <tr>\n",
       "      <th>Cluster 5</th>\n",
       "      <td>3.865044</td>\n",
       "      <td>1.254274</td>\n",
       "      <td>5.383280</td>\n",
       "      <td>0.894815</td>\n",
       "      <td>4.978929</td>\n",
       "      <td>1.360759</td>\n",
       "      <td>1.374046</td>\n",
       "      <td>1.649656</td>\n",
       "      <td>0.228333</td>\n",
       "      <td>1.928565</td>\n",
       "      <td>...</td>\n",
       "      <td>0.330821</td>\n",
       "      <td>0.986097</td>\n",
       "      <td>0.045224</td>\n",
       "      <td>-0.007928</td>\n",
       "      <td>57.243239</td>\n",
       "      <td>1.933416</td>\n",
       "      <td>2.618658</td>\n",
       "      <td>0.632063</td>\n",
       "      <td>0.225782</td>\n",
       "      <td>0.536850</td>\n",
       "    </tr>\n",
       "    <tr>\n",
       "      <th>Cluster 6</th>\n",
       "      <td>3.919499</td>\n",
       "      <td>1.532195</td>\n",
       "      <td>4.257612</td>\n",
       "      <td>0.928352</td>\n",
       "      <td>5.067323</td>\n",
       "      <td>1.409569</td>\n",
       "      <td>1.286314</td>\n",
       "      <td>3.457712</td>\n",
       "      <td>0.359544</td>\n",
       "      <td>1.871392</td>\n",
       "      <td>...</td>\n",
       "      <td>0.386750</td>\n",
       "      <td>0.986386</td>\n",
       "      <td>0.044054</td>\n",
       "      <td>-0.005270</td>\n",
       "      <td>56.949115</td>\n",
       "      <td>1.771941</td>\n",
       "      <td>3.097428</td>\n",
       "      <td>0.641273</td>\n",
       "      <td>0.356988</td>\n",
       "      <td>0.274422</td>\n",
       "    </tr>\n",
       "    <tr>\n",
       "      <th>Cluster 7</th>\n",
       "      <td>2.801359</td>\n",
       "      <td>1.368629</td>\n",
       "      <td>3.932246</td>\n",
       "      <td>2.183195</td>\n",
       "      <td>3.768595</td>\n",
       "      <td>2.595228</td>\n",
       "      <td>2.927598</td>\n",
       "      <td>2.034964</td>\n",
       "      <td>0.457603</td>\n",
       "      <td>2.007745</td>\n",
       "      <td>...</td>\n",
       "      <td>0.292981</td>\n",
       "      <td>0.943922</td>\n",
       "      <td>-0.001248</td>\n",
       "      <td>0.011327</td>\n",
       "      <td>61.764581</td>\n",
       "      <td>3.933514</td>\n",
       "      <td>2.529391</td>\n",
       "      <td>0.633603</td>\n",
       "      <td>0.455042</td>\n",
       "      <td>0.078301</td>\n",
       "    </tr>\n",
       "    <tr>\n",
       "      <th>Cluster 8</th>\n",
       "      <td>3.610435</td>\n",
       "      <td>1.242070</td>\n",
       "      <td>4.854376</td>\n",
       "      <td>1.168363</td>\n",
       "      <td>4.691309</td>\n",
       "      <td>1.380667</td>\n",
       "      <td>1.705054</td>\n",
       "      <td>2.171310</td>\n",
       "      <td>0.777827</td>\n",
       "      <td>1.974730</td>\n",
       "      <td>...</td>\n",
       "      <td>0.318105</td>\n",
       "      <td>0.987829</td>\n",
       "      <td>0.034953</td>\n",
       "      <td>-0.001544</td>\n",
       "      <td>57.842877</td>\n",
       "      <td>2.325160</td>\n",
       "      <td>2.809983</td>\n",
       "      <td>0.619126</td>\n",
       "      <td>0.775252</td>\n",
       "      <td>-0.562162</td>\n",
       "    </tr>\n",
       "    <tr>\n",
       "      <th>Cluster 9</th>\n",
       "      <td>2.773475</td>\n",
       "      <td>1.768988</td>\n",
       "      <td>2.835334</td>\n",
       "      <td>2.400523</td>\n",
       "      <td>3.808106</td>\n",
       "      <td>2.644849</td>\n",
       "      <td>2.696487</td>\n",
       "      <td>3.819892</td>\n",
       "      <td>0.278938</td>\n",
       "      <td>2.065836</td>\n",
       "      <td>...</td>\n",
       "      <td>0.555990</td>\n",
       "      <td>0.937280</td>\n",
       "      <td>-0.025520</td>\n",
       "      <td>0.025624</td>\n",
       "      <td>63.329828</td>\n",
       "      <td>3.891008</td>\n",
       "      <td>4.191531</td>\n",
       "      <td>0.278676</td>\n",
       "      <td>0.276386</td>\n",
       "      <td>0.435637</td>\n",
       "    </tr>\n",
       "  </tbody>\n",
       "</table>\n",
       "<p>10 rows × 193 columns</p>\n",
       "</div>"
      ],
      "text/plain": [
       "           ALTERSKATEGORIE_GROB  ANREDE_KZ  FINANZ_MINIMALIST  FINANZ_SPARER  \\\n",
       "Cluster 0              3.941664   1.547398           4.004102       0.698216   \n",
       "Cluster 1              4.021154   1.748091           3.841165       0.983928   \n",
       "Cluster 2              3.803595   0.881903           4.381228       1.015915   \n",
       "Cluster 3              3.751149   1.289934           5.321306       0.962242   \n",
       "Cluster 4              2.839669   0.805318           3.417433       2.395700   \n",
       "Cluster 5              3.865044   1.254274           5.383280       0.894815   \n",
       "Cluster 6              3.919499   1.532195           4.257612       0.928352   \n",
       "Cluster 7              2.801359   1.368629           3.932246       2.183195   \n",
       "Cluster 8              3.610435   1.242070           4.854376       1.168363   \n",
       "Cluster 9              2.773475   1.768988           2.835334       2.400523   \n",
       "\n",
       "           FINANZ_VORSORGER  FINANZ_ANLEGER  FINANZ_UNAUFFAELLIGER  \\\n",
       "Cluster 0          5.216670        0.713186               1.102475   \n",
       "Cluster 1          5.080799        1.140244               1.209685   \n",
       "Cluster 2          5.057448        0.733984               1.216819   \n",
       "Cluster 3          4.873146        1.032920               1.669623   \n",
       "Cluster 4          3.663853        2.146873               2.726352   \n",
       "Cluster 5          4.978929        1.360759               1.374046   \n",
       "Cluster 6          5.067323        1.409569               1.286314   \n",
       "Cluster 7          3.768595        2.595228               2.927598   \n",
       "Cluster 8          4.691309        1.380667               1.705054   \n",
       "Cluster 9          3.808106        2.644849               2.696487   \n",
       "\n",
       "           FINANZ_HAUSBAUER  GREEN_AVANTGARDE  HEALTH_TYP  \\\n",
       "Cluster 0          4.043918          0.313063    1.547945   \n",
       "Cluster 1          3.714889          0.281080    1.803770   \n",
       "Cluster 2          3.159774          0.330156    2.104059   \n",
       "Cluster 3          1.648376          1.446368    1.847699   \n",
       "Cluster 4          3.155708          0.375274    2.096256   \n",
       "Cluster 5          1.649656          0.228333    1.928565   \n",
       "Cluster 6          3.457712          0.359544    1.871392   \n",
       "Cluster 7          2.034964          0.457603    2.007745   \n",
       "Cluster 8          2.171310          0.777827    1.974730   \n",
       "Cluster 9          3.819892          0.278938    2.065836   \n",
       "\n",
       "                             ...                      SHOPPER_TYP_2.0  \\\n",
       "Cluster 0                    ...                             0.192376   \n",
       "Cluster 1                    ...                             0.404743   \n",
       "Cluster 2                    ...                             0.460766   \n",
       "Cluster 3                    ...                             0.293618   \n",
       "Cluster 4                    ...                             0.178161   \n",
       "Cluster 5                    ...                             0.330821   \n",
       "Cluster 6                    ...                             0.386750   \n",
       "Cluster 7                    ...                             0.292981   \n",
       "Cluster 8                    ...                             0.318105   \n",
       "Cluster 9                    ...                             0.555990   \n",
       "\n",
       "           SHOPPER_TYP_3.0  NATIONALITAET_KZ_1.0  NATIONALITAET_KZ_2.0  \\\n",
       "Cluster 0         1.041321              0.045738             -0.008105   \n",
       "Cluster 1         1.048665              0.042758             -0.006746   \n",
       "Cluster 2         0.936995              0.008498              0.026185   \n",
       "Cluster 3         1.009593              0.045985             -0.008197   \n",
       "Cluster 4         0.926601             -0.046712              0.060566   \n",
       "Cluster 5         0.986097              0.045224             -0.007928   \n",
       "Cluster 6         0.986386              0.044054             -0.005270   \n",
       "Cluster 7         0.943922             -0.001248              0.011327   \n",
       "Cluster 8         0.987829              0.034953             -0.001544   \n",
       "Cluster 9         0.937280             -0.025520              0.025624   \n",
       "\n",
       "           NATIONALITAET_KZ_3.0  PRAEGENDE_JUGENDJAHRE_AGE  \\\n",
       "Cluster 0             57.186413                   1.365454   \n",
       "Cluster 1             57.452954                   1.700725   \n",
       "Cluster 2             57.267888                   1.840918   \n",
       "Cluster 3             57.160516                   2.059048   \n",
       "Cluster 4             60.478770                   3.930573   \n",
       "Cluster 5             57.243239                   1.933416   \n",
       "Cluster 6             56.949115                   1.771941   \n",
       "Cluster 7             61.764581                   3.933514   \n",
       "Cluster 8             57.842877                   2.325160   \n",
       "Cluster 9             63.329828                   3.891008   \n",
       "\n",
       "           CAMEO_INTL_2015_WEALTH  CAMEO_INTL_2015_LIFE_STAGE  \\\n",
       "Cluster 0                4.865421                    1.027376   \n",
       "Cluster 1                4.306485                    0.397587   \n",
       "Cluster 2                4.292948                    0.319597   \n",
       "Cluster 3                2.242336                    0.745454   \n",
       "Cluster 4                4.258590                    0.247365   \n",
       "Cluster 5                2.618658                    0.632063   \n",
       "Cluster 6                3.097428                    0.641273   \n",
       "Cluster 7                2.529391                    0.633603   \n",
       "Cluster 8                2.809983                    0.619126   \n",
       "Cluster 9                4.191531                    0.278676   \n",
       "\n",
       "           PRAEGENDE_JUGENDJAHRE_MOVEMENT_Avantgarde  \\\n",
       "Cluster 0                                   0.310508   \n",
       "Cluster 1                                   0.278527   \n",
       "Cluster 2                                   0.327601   \n",
       "Cluster 3                                   1.443761   \n",
       "Cluster 4                                   0.372717   \n",
       "Cluster 5                                   0.225782   \n",
       "Cluster 6                                   0.356988   \n",
       "Cluster 7                                   0.455042   \n",
       "Cluster 8                                   0.775252   \n",
       "Cluster 9                                   0.276386   \n",
       "\n",
       "           PRAEGENDE_JUGENDJAHRE_MOVEMENT_Mainstream  \n",
       "Cluster 0                                   0.367387  \n",
       "Cluster 1                                   0.431354  \n",
       "Cluster 2                                   0.333200  \n",
       "Cluster 3                                  -1.899272  \n",
       "Cluster 4                                   0.242962  \n",
       "Cluster 5                                   0.536850  \n",
       "Cluster 6                                   0.274422  \n",
       "Cluster 7                                   0.078301  \n",
       "Cluster 8                                  -0.562162  \n",
       "Cluster 9                                   0.435637  \n",
       "\n",
       "[10 rows x 193 columns]"
      ]
     },
     "execution_count": 82,
     "metadata": {},
     "output_type": "execute_result"
    }
   ],
   "source": [
    "# Study centroids\n",
    "cluster_centroids = scaler.inverse_transform(pca_100.inverse_transform(centroids))\n",
    "\n",
    "clusters = ['Cluster {}'.format(i) for i in range(len(centroids))]\n",
    "centroids_df = pd.DataFrame(cluster_centroids, columns = list(azdias_1))\n",
    "centroids_df.index = clusters\n",
    "centroids_df"
   ]
  },
  {
   "cell_type": "code",
   "execution_count": 84,
   "metadata": {},
   "outputs": [
    {
     "name": "stdout",
     "output_type": "stream",
     "text": [
      "Underrepresented  general population cluster 3 ratio is 0.136\n",
      "Underrepresented  customer cluster 3 ratio is 0.058\n"
     ]
    }
   ],
   "source": [
    "# What kinds of people are part of a cluster that is underrepresented in the\n",
    "# customer data compared to the general population?\n",
    "print('Underrepresented  general population cluster {} ratio is {}'.format(3,round(preds_rate[3],3)))\n",
    "print('Underrepresented  customer cluster {} ratio is {}'.format(3,round(preds_customers_rate[3],3)))"
   ]
  },
  {
   "cell_type": "code",
   "execution_count": 88,
   "metadata": {},
   "outputs": [
    {
     "data": {
      "text/plain": [
       "KBA13_ANZAHL_PKW                              707.456791\n",
       "PRAEGENDE_JUGENDJAHRE_MOVEMENT_Mainstream       0.536850\n",
       "ORTSGR_KLS9                                     3.324928\n",
       "HH_EINKOMMEN_SCORE                              2.403196\n",
       "EWDICHTE                                        2.524755\n",
       "LP_STATUS_FEIN_10.0                             0.201058\n",
       "REGIOTYP                                        4.366330\n",
       "GREEN_AVANTGARDE                                0.228333\n",
       "PRAEGENDE_JUGENDJAHRE_MOVEMENT_Avantgarde       0.225782\n",
       "BALLRAUM                                        5.498988\n",
       "LP_STATUS_GROB_4.0                              1.303421\n",
       "INNENSTADT                                      6.059194\n",
       "LP_STATUS_GROB_5.0                              0.056624\n",
       "MIN_GEBAEUDEJAHR                             1994.093105\n",
       "Name: Cluster 5, dtype: float64"
      ]
     },
     "execution_count": 88,
     "metadata": {},
     "output_type": "execute_result"
    }
   ],
   "source": [
    "D_value = np.abs(centroids_df.iloc[5] - centroids_df.iloc[3]).sort_values(ascending=False)\n",
    "main_features = D_value[D_value > 1].index\n",
    "centroids_df[main_features].iloc[5]"
   ]
  },
  {
   "cell_type": "code",
   "execution_count": 89,
   "metadata": {},
   "outputs": [
    {
     "data": {
      "text/plain": [
       "KBA13_ANZAHL_PKW                              744.536137\n",
       "PRAEGENDE_JUGENDJAHRE_MOVEMENT_Mainstream      -1.899272\n",
       "ORTSGR_KLS9                                     5.017861\n",
       "HH_EINKOMMEN_SCORE                              1.049242\n",
       "EWDICHTE                                        3.800005\n",
       "LP_STATUS_FEIN_10.0                             1.469992\n",
       "REGIOTYP                                        3.133826\n",
       "GREEN_AVANTGARDE                                1.446368\n",
       "PRAEGENDE_JUGENDJAHRE_MOVEMENT_Avantgarde       1.443761\n",
       "BALLRAUM                                        4.300561\n",
       "LP_STATUS_GROB_4.0                              0.163341\n",
       "INNENSTADT                                      4.965382\n",
       "LP_STATUS_GROB_5.0                              1.121905\n",
       "MIN_GEBAEUDEJAHR                             1993.085413\n",
       "Name: Cluster 3, dtype: float64"
      ]
     },
     "execution_count": 89,
     "metadata": {},
     "output_type": "execute_result"
    }
   ],
   "source": [
    "centroids_df[main_features].iloc[3]"
   ]
  },
  {
   "cell_type": "markdown",
   "metadata": {},
   "source": [
    "### Discussion 3.3: Compare Customer Data to Demographics Data\n",
    "\n",
    "(Double-click this cell and replace this text with your own text, reporting findings and conclusions from the clustering analysis. Can we describe segments of the population that are relatively popular with the mail-order company, or relatively unpopular with the company?)\n",
    "\n",
    "#### Answer:\n",
    "Adding missing values as new cluster (-1) for both general and customer data ,the relative proportions change little.\n",
    "\n",
    "5-labeled cluster is most overrepresented in the customer dataset compared to the general population. The people in this cluster tend to be target customers whose features are \n",
    "lower number of cars in the PLZ8 region, Mainstream movement of person 's youth,smaller size of community,lower Estimated household net income,lower density of households per square kilometer,lower low-income earners,middle class neighborhood,not a member of green avantgarde,\n",
    "higher distance to nearest urban center,houseowners.\n",
    "\n",
    "3-labeled cluster is most underrepresented in the customer dataset.The people in this cluster tend not to be target customers whose features are higher number of cars in the PLZ8 region,Avantgarde movement of person 's youth,larger size of community,higher Estimated household net income,higher density of households per square kilometer,higher low-income earners,upper middle class neighborhood,member of green avantgarde,lower distance to nearest urban center,top earners."
   ]
  },
  {
   "cell_type": "markdown",
   "metadata": {},
   "source": [
    "> Congratulations on making it this far in the project! Before you finish, make sure to check through the entire notebook from top to bottom to make sure that your analysis follows a logical flow and all of your findings are documented in **Discussion** cells. Once you've checked over all of your work, you should export the notebook as an HTML document to submit for evaluation. You can do this from the menu, navigating to **File -> Download as -> HTML (.html)**. You will submit both that document and this notebook for your project submission."
   ]
  },
  {
   "cell_type": "code",
   "execution_count": null,
   "metadata": {},
   "outputs": [],
   "source": []
  }
 ],
 "metadata": {
  "kernelspec": {
   "display_name": "Python 3",
   "language": "python",
   "name": "python3"
  },
  "language_info": {
   "codemirror_mode": {
    "name": "ipython",
    "version": 3
   },
   "file_extension": ".py",
   "mimetype": "text/x-python",
   "name": "python",
   "nbconvert_exporter": "python",
   "pygments_lexer": "ipython3",
   "version": "3.6.3"
  }
 },
 "nbformat": 4,
 "nbformat_minor": 2
}
